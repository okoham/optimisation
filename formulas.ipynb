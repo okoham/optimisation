{
 "cells": [
  {
   "cell_type": "markdown",
   "metadata": {},
   "source": [
    "## Newton's Method\n",
    "\n",
    "$x^{(k+1)} = x^{(k)} - \\frac{f’(x^{(k)})}{f’’(x^{(k)})}$\n"
   ]
  },
  {
   "cell_type": "markdown",
   "metadata": {},
   "source": [
    "## Particle Swarm Optimisation\n",
    "\n",
    "$x^{(i)} \\leftarrow x^{(i)} + v^{(i)}$\n",
    "\n",
    "$v^{(i)} \\leftarrow w v^{(i)} \n",
    "        + c_1 r_1 \\left( x^{(i)}_{best} - x^{(i)}\\right)\n",
    "        + c_2 r_2 \\left( x_{best} - x^{(i)}\\right)$"
   ]
  },
  {
   "cell_type": "code",
   "execution_count": null,
   "metadata": {},
   "outputs": [],
   "source": []
  }
 ],
 "metadata": {
  "kernelspec": {
   "display_name": "Python 3",
   "language": "python",
   "name": "python3"
  },
  "language_info": {
   "codemirror_mode": {
    "name": "ipython",
    "version": 3
   },
   "file_extension": ".py",
   "mimetype": "text/x-python",
   "name": "python",
   "nbconvert_exporter": "python",
   "pygments_lexer": "ipython3",
   "version": "3.8.4"
  }
 },
 "nbformat": 4,
 "nbformat_minor": 4
}
