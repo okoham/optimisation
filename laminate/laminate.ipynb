{
 "cells": [
  {
   "cell_type": "code",
   "execution_count": 77,
   "metadata": {},
   "outputs": [],
   "source": [
    "import sys\n",
    "sys.path.append(\"c:/Users/oliver/Projects/CLT/\")\n",
    "\n",
    "import math\n",
    "\n",
    "from clt import Laminate\n",
    "from material import TransverseIsotropicPlyMaterial\n",
    "from plainstrength import PlainStrengthAnalysisA"
   ]
  },
  {
   "cell_type": "code",
   "execution_count": 65,
   "metadata": {},
   "outputs": [],
   "source": [
    "matmg = TransverseIsotropicPlyMaterial(t=0.184, \n",
    "                                       E11=154000, E22=154000, G12=4200, nu12=0.35, \n",
    "                                       a11t=0.15e-6, a22t=28.7e-6, \n",
    "                                       F11t=2610, F11c=-1450, F22t=50, F22c=-120, F12s=105)\n",
    "puck = PlainStrengthAnalysisA(lam, 'Puck')\n",
    "\n",
    "lam = Laminate([(x, matmg) for x in (45, -45, 0, 90, 90, 0, -45, 45)])\n",
    "load = [500, 100, -10, 0, 0, 0]"
   ]
  },
  {
   "cell_type": "code",
   "execution_count": 66,
   "metadata": {},
   "outputs": [
    {
     "data": {
      "text/plain": [
       "1.4719999999999998"
      ]
     },
     "execution_count": 66,
     "metadata": {},
     "output_type": "execute_result"
    }
   ],
   "source": [
    "lam.thickness()"
   ]
  },
  {
   "cell_type": "code",
   "execution_count": 67,
   "metadata": {},
   "outputs": [],
   "source": [
    "res = puck.all_rf(load, 0)"
   ]
  },
  {
   "cell_type": "code",
   "execution_count": 68,
   "metadata": {},
   "outputs": [
    {
     "data": {
      "text/plain": [
       "[StrengthResult(lid=0, angle=45.0, eta=0.5, r=13.654250941402164, fmode='Puck_FF_T'),\n",
       " StrengthResult(lid=1, angle=-45.0, eta=0.5, r=12.057687013472991, fmode='Puck_FF_T'),\n",
       " StrengthResult(lid=2, angle=0.0, eta=0.5, r=5.712335115344682, fmode='Puck_FF_T'),\n",
       " StrengthResult(lid=3, angle=90.0, eta=0.5, r=29.41337195925647, fmode='Puck_FF_C'),\n",
       " StrengthResult(lid=4, angle=90.0, eta=0.5, r=29.41335447743833, fmode='Puck_FF_C'),\n",
       " StrengthResult(lid=5, angle=0.0, eta=0.5, r=5.712333953373845, fmode='Puck_FF_T'),\n",
       " StrengthResult(lid=6, angle=-45.0, eta=0.5, r=12.057686748454065, fmode='Puck_FF_T'),\n",
       " StrengthResult(lid=7, angle=45.0, eta=0.5, r=13.654250576856676, fmode='Puck_FF_T')]"
      ]
     },
     "execution_count": 68,
     "metadata": {},
     "output_type": "execute_result"
    }
   ],
   "source": [
    "[r for r in res if '_MF_' not in r.fmode and r.r is not None]"
   ]
  },
  {
   "cell_type": "markdown",
   "metadata": {},
   "source": [
    "## Orthotropic Plate buckling, compression\n",
    "\n",
    "#### HSB 45111-08\n",
    "\n",
    "- prerequisites: \n",
    "  - $B$ matrix is zero\n",
    "  - special orthotropic: $D_{16} = D_{26} = 0$\n",
    "  - plate is thin: $t/a \\lt 0.5$, $t/b \\lt 0.5$\n",
    "- figure 1: all edges simply supported\n",
    "- length of edge  parallel to load $a$\n",
    "- length of edge perpendicular to load $b$\n",
    "- effective aspect ratio $\\bar \\alpha = \\frac{a}{b} \\cdot \\left( \\frac{D_{22}}{D_{11}} \\right)^{1/4}$\n",
    "- orthotropy parameter $\\beta = \\frac{D_{12} + 2 D_{66}}{\\sqrt{D_{11} D_{22}}}$\n",
    "- Buckling coefficient, lower bound: $k_{x, LB} = 2 (1 + \\beta)$  for $\\bar \\alpha \\ge 1$\n",
    "- Buckling load $n_{cr} = k_x \\left( \\frac{\\pi}{b} \\right)^2 \\sqrt{D_{11} D_{22}}$ for $\\bar \\alpha \\ge 1$\n",
    "\n",
    "#### simplified analytical formulas, also for combined loads\n",
    "\n",
    "- see Kassapoglou!\n",
    "- all edges simply supported\n",
    "- compression\n",
    "- shear\n",
    "- combined shear/compression\n",
    "\n",
    "#### Other simplifications\n",
    "\n",
    "There is a formula for combined buckling -> paper TU delft "
   ]
  },
  {
   "cell_type": "code",
   "execution_count": 72,
   "metadata": {},
   "outputs": [],
   "source": [
    "a = 600\n",
    "b = 200"
   ]
  },
  {
   "cell_type": "code",
   "execution_count": 75,
   "metadata": {},
   "outputs": [
    {
     "data": {
      "text/plain": [
       "array([[ 3.4357938e+04,  2.8614363e+04, -2.6872715e-14],\n",
       "       [ 2.8614363e+04,  3.4357938e+04,  2.6872715e-14],\n",
       "       [-2.6872715e-14,  2.6872715e-14,  1.3404540e+04]], dtype=float32)"
      ]
     },
     "execution_count": 75,
     "metadata": {},
     "output_type": "execute_result"
    }
   ],
   "source": [
    "D = lam.D()\n",
    "D"
   ]
  },
  {
   "cell_type": "code",
   "execution_count": 76,
   "metadata": {},
   "outputs": [
    {
     "data": {
      "text/plain": [
       "3.0"
      ]
     },
     "execution_count": 76,
     "metadata": {},
     "output_type": "execute_result"
    }
   ],
   "source": [
    "alphabar = (a/b) * (D[1,1]/D[0,0])**0.25\n",
    "alphabar"
   ]
  },
  {
   "cell_type": "code",
   "execution_count": 78,
   "metadata": {},
   "outputs": [
    {
     "data": {
      "text/plain": [
       "1.6131190658960939"
      ]
     },
     "execution_count": 78,
     "metadata": {},
     "output_type": "execute_result"
    }
   ],
   "source": [
    "beta = (D[0,1] + 2*D[2,2])/(math.sqrt(D[0,0]*D[1,1]))\n",
    "beta"
   ]
  },
  {
   "cell_type": "code",
   "execution_count": 79,
   "metadata": {},
   "outputs": [
    {
     "data": {
      "text/plain": [
       "5.226238131792188"
      ]
     },
     "execution_count": 79,
     "metadata": {},
     "output_type": "execute_result"
    }
   ],
   "source": [
    "kx = 2*(1 + beta)\n",
    "kx"
   ]
  },
  {
   "cell_type": "code",
   "execution_count": 80,
   "metadata": {},
   "outputs": [
    {
     "data": {
      "text/plain": [
       "44.305335373192655"
      ]
     },
     "execution_count": 80,
     "metadata": {},
     "output_type": "execute_result"
    }
   ],
   "source": [
    "ncr = kx * (math.pi/b)**2 * math.sqrt(D[0,0]*D[1,1])\n",
    "ncr"
   ]
  },
  {
   "cell_type": "code",
   "execution_count": 82,
   "metadata": {},
   "outputs": [
    {
     "data": {
      "text/plain": [
       "30.09873326983197"
      ]
     },
     "execution_count": 82,
     "metadata": {},
     "output_type": "execute_result"
    }
   ],
   "source": [
    "sigcr = ncr / lam.thickness()\n",
    "sigcr"
   ]
  },
  {
   "cell_type": "markdown",
   "metadata": {},
   "source": [
    "## Stacking sequence constraints: \n",
    "- symmetric laminate, \n",
    "- balanced laminate\n",
    "- 0, 90, +/-\n",
    "- min 10% in any direction\n",
    "- +/- or +/90/- on outer plies\n",
    "- contiguous plies: max 4 (0.125) or 2 (0.18, 0.25)\n",
    "- place +/- plies closely together\n",
    "- angle between adjacentt plies should be less than 45° (??? almost always violated)\n",
    "\n",
    "## Task 1\n",
    "\n",
    "- plate under compressive loads, edge length and loads given\n",
    "- plate is dominated by compressive loads (e.g. lower shell)\n",
    "- more than one load case\n",
    "- find stacking sequence that minimises mass\n",
    "- plain strength and compressive buckling\n",
    "\n",
    "  \n",
    "## Task 2\n",
    "\n",
    "- Other tasks could be to find a stacking sequence that closely approximates a given ABD matrix\n",
    "- objective function: ||ABD_1 - ABD_2|| / ||ABD_2|| \n",
    "  (after non-dimensionalisation; A, B, D matrices have different dimensions)\n",
    "- which norm?"
   ]
  },
  {
   "cell_type": "code",
   "execution_count": null,
   "metadata": {},
   "outputs": [],
   "source": []
  }
 ],
 "metadata": {
  "kernelspec": {
   "display_name": "Python 3",
   "language": "python",
   "name": "python3"
  },
  "language_info": {
   "codemirror_mode": {
    "name": "ipython",
    "version": 3
   },
   "file_extension": ".py",
   "mimetype": "text/x-python",
   "name": "python",
   "nbconvert_exporter": "python",
   "pygments_lexer": "ipython3",
   "version": "3.8.4"
  }
 },
 "nbformat": 4,
 "nbformat_minor": 4
}
