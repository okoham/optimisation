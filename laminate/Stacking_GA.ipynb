{
 "cells": [
  {
   "cell_type": "markdown",
   "metadata": {},
   "source": [
    "# Determine stacking sequence for a panel"
   ]
  },
  {
   "cell_type": "code",
   "execution_count": 1,
   "metadata": {},
   "outputs": [],
   "source": [
    "%matplotlib inline\n",
    "import matplotlib.pyplot as plt\n",
    "import numpy as np\n",
    "from geneticalgorithm import geneticalgorithm as ga"
   ]
  },
  {
   "cell_type": "markdown",
   "metadata": {},
   "source": [
    "## Example Data"
   ]
  },
  {
   "cell_type": "code",
   "execution_count": 2,
   "metadata": {},
   "outputs": [],
   "source": [
    "ncells = 9\n",
    "nlayers = 21\n",
    "\n",
    "MIN_ANGLE_COUNT = np.array(\n",
    "     [[4, 4, 2, 2],\n",
    "      [2, 2, 2, 2],\n",
    "      [3, 2, 2, 2],\n",
    "      [3, 2, 2, 4],\n",
    "      [5, 5, 4, 4],\n",
    "      [3, 4, 2, 2],\n",
    "      [4, 4, 4, 4],\n",
    "      [4, 4, 4, 4],\n",
    "      [3, 4, 2, 2]], dtype=int)\n",
    "\n",
    "adjacent = np.array([1, 2, 2, 3, 1, 4, 2, 5, 3, 6, 4, 5, 5, 6, 4, 7, 5, 8, 6, 9, 7, 8, 8, 9], \n",
    "                    dtype=int).reshape((-1, 2))\n",
    "adjacent -= 1 # adjust to 0 based indexing\n"
   ]
  },
  {
   "cell_type": "markdown",
   "metadata": {},
   "source": [
    "## Version 1: orientation defined per cell"
   ]
  },
  {
   "cell_type": "code",
   "execution_count": 7,
   "metadata": {},
   "outputs": [],
   "source": [
    "# x: stacking sequence for one cell.\n",
    "# each cell has a stacking sequence, of predefined length nlayers\n",
    "# range 0..4; where 0 denotes empty\n",
    "\n",
    "def plycount_per_orientation(x):\n",
    "    return np.array([np.sum(x == i) for i in range(1, 4+1)], dtype=int)\n",
    "\n",
    "def plycount(x):\n",
    "    return np.count_nonzero(x)\n",
    "\n",
    "#1. for each pair of adjacent cells c1 and c2 with MinPlyCount n1 and n2, \n",
    "#   min(n1, n2) layers have to be continuous. Ply k is continuous if \n",
    "#   besetzt[c1, k] /\\ besetzt[c2, k].\n",
    "def neighbor_violations(x1, x2):\n",
    "    # set of (ply_index, angle_index) pairs\n",
    "    s1 = set((i, a) for i, a in enumerate(x1) if a>0)\n",
    "    s2 = set((i, a) for i, a in enumerate(x2) if a>0)\n",
    "    return len(s1 & s2) >= min(len(s1), len(s2))\n",
    "    \n",
    "#2. Symmetric  \n",
    "def symmetry_violations(x):\n",
    "    xc = x[x>0]\n",
    "    n = len(xc)\n",
    "    return sum(xc[i] != xc[n-1-i] for i in range(n//2))\n",
    "\n",
    "#3. Balanced\n",
    "def balanced_violations(x):\n",
    "    return abs(np.sum(x == 3) - np.sum(x == 4))\n",
    "\n",
    "#4. min 10% in any direction\n",
    "def min_ratio_violations(x, ratio):\n",
    "    xc = x[x>0]\n",
    "    n = len(xc)\n",
    "    return sum(np.sum(xc==i) >= n*ratio for i in range(1, 4+1))\n",
    "\n",
    "#5. Max nc consecutive plies of same orientation\n",
    "def contiguous_violations(x, ncmax):\n",
    "    xc = x[x>0]\n",
    "    n = len(xc)\n",
    "    failed = 0\n",
    "    for i in range(n-ncmax-1):\n",
    "        s = set(xc[i:i+1+ncmax])\n",
    "        if len(s) > 1:\n",
    "            failed += 1\n",
    "    return failed\n",
    "    \n",
    "# vereinfachte version -> verheiratet 6 und 7\n",
    "#6. outer plies are +/- 45\n",
    "#7. outer plies are continuous, i.e. active in each cell\n",
    "def outer_ply_violations(x):\n",
    "    return sum([x[0] != 3, x[1] != 4, x[-2] != 4, x[-1] != 3])\n",
    "\n",
    "#8. for each cell, and each orientation: actual counts per orientation >= MinPlyCount\n",
    "def min_ply_violations(x, mincount):\n",
    "    return sum(plycount_per_orientation(x) < mincount)\n",
    "\n",
    "def implies(a, b):\n",
    "    return (not a) or (a and b)\n",
    "\n",
    "#9. +/- always together\n",
    "def plusminus_violations(x):\n",
    "    xc = x[x>0]\n",
    "    nc = len(xc)\n",
    "    failed = 0\n",
    "    for i in range(1, nc-1):\n",
    "        before, p, after = xc[i-1:i+2]\n",
    "        if not (implies(p==3, 4 in (before, after)) and implies(p==4, 3 in (before, after))):\n",
    "            failed += 1\n",
    "    return failed"
   ]
  },
  {
   "cell_type": "code",
   "execution_count": 8,
   "metadata": {},
   "outputs": [],
   "source": [
    "# accelerated penalty function\n",
    "def local_violations(seq, mincount, ncmax):\n",
    "    # symmetry\n",
    "    n = len(seq)\n",
    "    n_sym = sum(seq[i] != seq[-1-i] for i in range(n//2))\n",
    "    # per orientation\n",
    "    plycount_per_orientation = np.array([np.sum(seq == i) for i in range(1, 4+1)], dtype=int)\n",
    "\n",
    "def neighbor_penalty():\n",
    "    pass"
   ]
  },
  {
   "cell_type": "code",
   "execution_count": 39,
   "metadata": {},
   "outputs": [
    {
     "data": {
      "text/plain": [
       "array([2, 3, 3, 3, 3, 2, 2, 3, 4, 3])"
      ]
     },
     "execution_count": 39,
     "metadata": {},
     "output_type": "execute_result"
    }
   ],
   "source": [
    "x = np.random.randint(1, 4+1, 10)\n",
    "x"
   ]
  },
  {
   "cell_type": "code",
   "execution_count": 41,
   "metadata": {},
   "outputs": [
    {
     "name": "stderr",
     "output_type": "stream",
     "text": [
      "<ipython-input-41-c63ea0b99c14>:1: DeprecationWarning: elementwise comparison failed; this will raise an error in the future.\n",
      "  x == np.arange(1,4+1)\n"
     ]
    },
    {
     "data": {
      "text/plain": [
       "False"
      ]
     },
     "execution_count": 41,
     "metadata": {},
     "output_type": "execute_result"
    }
   ],
   "source": [
    "x."
   ]
  },
  {
   "cell_type": "markdown",
   "metadata": {},
   "source": [
    "## objective function"
   ]
  },
  {
   "cell_type": "code",
   "execution_count": 17,
   "metadata": {},
   "outputs": [],
   "source": [
    "MINRATIO = 0.1\n",
    "MAXCONT = 2\n",
    "RHO_PEN = 10\n",
    "\n",
    "# simple representation: angle define dper layer and cell\n",
    "def f(x):\n",
    "    xm = x.reshape((ncells, nlayers)) \n",
    "    \n",
    "    # compute volume\n",
    "    objective = 0\n",
    "    for c in range(ncells):\n",
    "        objective += plycount(xm[c])\n",
    "    \n",
    "    # compute constraint violations\n",
    "    pcount = 0\n",
    "    \n",
    "    # single cell\n",
    "    for c in range(ncells):\n",
    "        xc = xm[c]\n",
    "        \n",
    "        pcount += symmetry_violations(xc)\n",
    "        pcount += balanced_violations(xc)\n",
    "        pcount += min_ratio_violations(xc, MINRATIO)\n",
    "        pcount += contiguous_violations(xc, MAXCONT)\n",
    "        pcount += outer_ply_violations(xc)\n",
    "        pcount += min_ply_violations(xc, MIN_ANGLE_COUNT[c])\n",
    "        pcount += plusminus_violations(xc)\n",
    "\n",
    "        #pcount += symmetry_violations(xc) > 0\n",
    "        #pcount += balanced_violations(xc) > 0\n",
    "        #pcount += min_ratio_violations(xc, MINRATIO) > 0\n",
    "        #pcount += contiguous_violations(xc, MAXCONT) > 0\n",
    "        #pcount += outer_ply_violations(xc) > 0\n",
    "        #pcount += min_ply_violations(xc, MIN_ANGLE_COUNT[c]) > 0\n",
    "        #pcount += plusminus_violations(xc) > 0\n",
    "\n",
    "        \n",
    "    # adjacent cells\n",
    "    for c1, c2 in adjacent:\n",
    "        xc1 = xm[c1]\n",
    "        xc2 = xm[c2]\n",
    "        pcount += neighbor_violations(xc1, xc2)\n",
    "        #pcount += neighbor_violations(xc1, xc2) > 0\n",
    "            \n",
    "    # penalised objective value\n",
    "    return objective + 2*(pcount>0)*MIN_ANGLE_COUNT.sum() + RHO_PEN*pcount**2\n",
    "\n",
    "def pointer_to_simple(xp):\n",
    "    orient = xp[:nlayers].reshape((1, nlayers))\n",
    "    active = xp[nlayers:].reshape((ncells, nlayers))\n",
    "    # convert to simple\n",
    "    return orient*active    \n",
    "\n",
    "# pointer representation, as in minizinc\n",
    "def f2(xp):\n",
    "    return f(pointer_to_simple(xp))\n",
    "    "
   ]
  },
  {
   "cell_type": "markdown",
   "metadata": {},
   "source": [
    "## Example"
   ]
  },
  {
   "cell_type": "code",
   "execution_count": 30,
   "metadata": {
    "scrolled": false
   },
   "outputs": [
    {
     "name": "stdout",
     "output_type": "stream",
     "text": [
      "112\n",
      "[[3 1 4 0 1 0 2 3 3 3 4 2 3 1 2 3 4 3 1 2 0]\n",
      " [4 1 4 4 4 0 3 2 1 3 3 4 1 3 3 4 0 2 0 3 1]\n",
      " [2 0 2 2 4 0 4 4 3 2 3 0 2 4 0 1 1 2 1 4 4]\n",
      " [0 1 1 4 2 2 1 2 2 3 1 0 3 3 1 1 1 4 3 1 4]\n",
      " [4 3 1 4 2 4 4 1 4 4 2 0 2 3 0 3 0 4 2 3 4]\n",
      " [3 1 1 1 4 3 1 4 4 0 4 4 1 2 1 0 0 2 1 1 0]\n",
      " [4 3 1 2 1 4 0 0 0 4 3 1 0 2 1 4 0 4 3 3 0]\n",
      " [1 2 4 4 4 3 3 3 4 3 4 4 4 3 0 2 1 2 4 2 1]\n",
      " [3 0 2 1 0 1 3 1 4 1 1 2 0 1 1 4 1 4 3 4 3]]\n",
      "mpv 0\n",
      "936744\n",
      "[1 4 1 3 2 4 4 4 1 1 2 1 2 3 3 3 4 4 2 1 1]\n",
      "[[0 0 0 1 0 1 0 1 0 0 1 1 1 0 1 0 0 0 1 1 1]\n",
      " [0 0 1 0 0 1 0 0 0 0 0 1 0 0 0 0 0 1 0 1 0]\n",
      " [0 0 1 0 0 0 1 1 1 0 0 1 1 1 0 1 0 1 0 1 1]\n",
      " [0 1 0 0 0 0 0 0 1 1 0 1 1 0 0 0 1 1 1 1 0]\n",
      " [0 0 1 1 0 1 1 0 0 0 0 0 1 1 0 0 0 1 0 1 0]\n",
      " [1 0 1 0 1 1 1 1 1 0 0 0 1 1 0 1 1 1 1 0 0]\n",
      " [0 0 0 1 0 0 0 1 0 1 0 1 1 0 0 1 0 1 1 0 0]\n",
      " [0 0 1 0 0 0 0 0 0 1 0 1 0 1 0 0 1 0 0 0 1]\n",
      " [0 0 1 1 0 0 1 0 0 0 1 0 0 1 1 0 1 0 0 0 1]]\n",
      "[[0 0 0 3 0 4 0 4 0 0 2 1 2 0 3 0 0 0 2 1 1]\n",
      " [0 0 1 0 0 4 0 0 0 0 0 1 0 0 0 0 0 4 0 1 0]\n",
      " [0 0 1 0 0 0 4 4 1 0 0 1 2 3 0 3 0 4 0 1 1]\n",
      " [0 4 0 0 0 0 0 0 1 1 0 1 2 0 0 0 4 4 2 1 0]\n",
      " [0 0 1 3 0 4 4 0 0 0 0 0 2 3 0 0 0 4 0 1 0]\n",
      " [1 0 1 0 2 4 4 4 1 0 0 0 2 3 0 3 4 4 2 0 0]\n",
      " [0 0 0 3 0 0 0 4 0 1 0 1 2 0 0 3 0 4 2 0 0]\n",
      " [0 0 1 0 0 0 0 0 0 1 0 1 0 3 0 0 4 0 0 0 1]\n",
      " [0 0 1 3 0 0 4 0 0 0 2 0 0 3 3 0 4 0 0 0 1]]\n"
     ]
    }
   ],
   "source": [
    "# lowest value we can get\n",
    "print(MIN_ANGLE_COUNT.sum())\n",
    "\n",
    "# create random vectors\n",
    "x1 = np.random.randint(0, 4+1, ncells*nlayers)\n",
    "print(x1.reshape((ncells, nlayers)))\n",
    "\n",
    "# compute function\n",
    "print('mpv', min_ply_violations(x1, MIN_ANGLE_COUNT[4]))\n",
    "print(f(x1))\n",
    "\n",
    "# pointer representation\n",
    "orient = np.random.randint(1, 4+1, nlayers)\n",
    "active = np.random.randint(0, 1+1, ncells*nlayers) #.reshape((ncells, nlayers))\n",
    "print(orient)\n",
    "print(active.reshape(ncells, nlayers))\n",
    "xp = np.concatenate([orient, active])\n",
    "print(pointer_to_simple(xp))"
   ]
  },
  {
   "cell_type": "markdown",
   "metadata": {},
   "source": [
    "## optimise"
   ]
  },
  {
   "cell_type": "code",
   "execution_count": 46,
   "metadata": {},
   "outputs": [],
   "source": [
    "# simple representation\n",
    "varbound_simple = np.array([(0, 4)]*ncells*nlayers)\n",
    "\n",
    "# pointer representation\n",
    "varbound_pointers = np.array([(1,4)]*nlayers + [(0,1)]*ncells*nlayers)\n",
    "\n",
    "algorithm_param = {'max_num_iteration': 1000,\n",
    "                   'population_size': 100,\n",
    "                   'mutation_probability': 0.3,\n",
    "                   'elit_ratio': 0.02,\n",
    "                   'crossover_probability': 0.5,\n",
    "                   'parents_portion': 0.3,\n",
    "                   'crossover_type': 'uniform', #'two_point', #'one_point', \n",
    "                   'max_iteration_without_improv': None}\n",
    "\n",
    "model=ga(function=f2, \n",
    "         #dimension=ncells*nlayers, \n",
    "         dimension=nlayers + ncells*nlayers,\n",
    "         variable_type='int', \n",
    "         #variable_boundaries=varbound_simple,\n",
    "         variable_boundaries=varbound_pointers,\n",
    "         algorithm_parameters=algorithm_param)"
   ]
  },
  {
   "cell_type": "code",
   "execution_count": 47,
   "metadata": {},
   "outputs": [
    {
     "name": "stdout",
     "output_type": "stream",
     "text": [
      " The best solution found:                                                                           \n",
      " [1. 1. 1. 1. 1. 1. 1. 1. 2. 1. 4. 1. 1. 1. 1. 1. 1. 1. 1. 1. 1. 0. 1. 0.\n",
      " 0. 0. 0. 0. 1. 0. 0. 0. 0. 0. 1. 0. 1. 0. 1. 0. 0. 0. 0. 1. 0. 1. 0. 1.\n",
      " 0. 1. 0. 0. 0. 0. 0. 0. 1. 0. 1. 1. 0. 0. 0. 0. 1. 1. 0. 0. 0. 1. 0. 0.\n",
      " 0. 0. 0. 0. 1. 0. 0. 0. 1. 0. 0. 1. 0. 1. 0. 0. 1. 0. 0. 0. 0. 0. 0. 0.\n",
      " 0. 0. 0. 0. 0. 1. 0. 0. 1. 0. 0. 1. 0. 0. 1. 0. 1. 0. 1. 0. 0. 1. 1. 0.\n",
      " 0. 1. 0. 1. 1. 0. 1. 1. 0. 0. 0. 1. 0. 0. 0. 1. 0. 0. 0. 1. 0. 1. 0. 0.\n",
      " 0. 1. 0. 0. 0. 0. 1. 0. 1. 0. 0. 0. 1. 0. 0. 1. 0. 1. 0. 1. 1. 0. 0. 0.\n",
      " 0. 1. 0. 0. 0. 1. 1. 0. 0. 1. 0. 0. 0. 0. 0. 0. 0. 0. 0. 0. 1. 0. 0. 0.\n",
      " 1. 0. 0. 0. 0. 0. 1. 0. 1. 1. 0. 1. 0. 0. 0. 0. 0. 1.]\n",
      "\n",
      " Objective function:\n",
      " 52120.0\n"
     ]
    },
    {
     "data": {
      "image/png": "[encoded data removed]",
      "text/plain": [
       "<Figure size 432x288 with 1 Axes>"
      ]
     },
     "metadata": {
      "needs_background": "light"
     },
     "output_type": "display_data"
    }
   ],
   "source": [
    "model.run()"
   ]
  },
  {
   "cell_type": "code",
   "execution_count": null,
   "metadata": {},
   "outputs": [],
   "source": []
  }
 ],
 "metadata": {
  "kernelspec": {
   "display_name": "Python 3",
   "language": "python",
   "name": "python3"
  },
  "language_info": {
   "codemirror_mode": {
    "name": "ipython",
    "version": 3
   },
   "file_extension": ".py",
   "mimetype": "text/x-python",
   "name": "python",
   "nbconvert_exporter": "python",
   "pygments_lexer": "ipython3",
   "version": "3.8.4"
  }
 },
 "nbformat": 4,
 "nbformat_minor": 4
}
