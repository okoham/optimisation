{
 "cells": [
  {
   "cell_type": "markdown",
   "metadata": {},
   "source": [
    "# Determine stacking sequence for a panel"
   ]
  },
  {
   "cell_type": "code",
   "execution_count": 1,
   "metadata": {},
   "outputs": [],
   "source": [
    "%matplotlib inline\n",
    "import matplotlib.pyplot as plt\n",
    "import numpy as np\n",
    "from geneticalgorithm import geneticalgorithm as ga"
   ]
  },
  {
   "cell_type": "markdown",
   "metadata": {},
   "source": [
    "## Example Data"
   ]
  },
  {
   "cell_type": "code",
   "execution_count": 2,
   "metadata": {},
   "outputs": [],
   "source": [
    "ncells = 9\n",
    "nlayers = 21\n",
    "\n",
    "MIN_ANGLE_COUNT = np.array(\n",
    "     [[4, 4, 2, 2],\n",
    "      [2, 2, 2, 2],\n",
    "      [3, 2, 2, 2],\n",
    "      [3, 2, 2, 4],\n",
    "      [5, 5, 4, 4],\n",
    "      [3, 4, 2, 2],\n",
    "      [4, 4, 4, 4],\n",
    "      [4, 4, 4, 4],\n",
    "      [3, 4, 2, 2]], dtype=int)\n",
    "\n",
    "adjacent = np.array([1, 2, 2, 3, 1, 4, 2, 5, 3, 6, 4, 5, 5, 6, 4, 7, 5, 8, 6, 9, 7, 8, 8, 9], \n",
    "                    dtype=int).reshape((-1, 2))\n",
    "adjacent -= 1 # adjust to 0 based indexing\n"
   ]
  },
  {
   "cell_type": "markdown",
   "metadata": {},
   "source": [
    "## Version 1: orientation defined per cell"
   ]
  },
  {
   "cell_type": "code",
   "execution_count": 18,
   "metadata": {},
   "outputs": [],
   "source": [
    "# x: stacking sequence for one cell.\n",
    "# each cell has a stacking sequence, of predefined length nlayers\n",
    "# range 0..4; where 0 denotes empty\n",
    "\n",
    "def plycount_per_orientation(x):\n",
    "    return np.array([np.sum(x == i) for i in range(1, 4+1)], dtype=int)\n",
    "\n",
    "def plycount(x):\n",
    "    return np.count_nonzero(x)\n",
    "\n",
    "#1. for each pair of adjacent cells c1 and c2 with MinPlyCount n1 and n2, \n",
    "#   min(n1, n2) layers have to be continuous. Ply k is continuous if \n",
    "#   besetzt[c1, k] /\\ besetzt[c2, k].\n",
    "def neighbor_violations(x1, x2):\n",
    "    # set of (ply_index, angle_index) pairs\n",
    "    s1 = set((i, a) for i, a in enumerate(x1) if a>0)\n",
    "    s2 = set((i, a) for i, a in enumerate(x2) if a>0)\n",
    "    return len(s1 & s2) >= min(len(s1), len(s2))\n",
    "    \n",
    "#2. Symmetric  \n",
    "def symmetry_violations(x):\n",
    "    xc = x[x>0]\n",
    "    n = len(xc)\n",
    "    return sum(xc[i] != xc[n-1-i] for i in range(n//2))\n",
    "\n",
    "#3. Balanced\n",
    "def balanced_violations(x):\n",
    "    return abs(np.sum(x == 3) - np.sum(x == 4))\n",
    "\n",
    "#4. min 10% in any direction\n",
    "def min_ratio_violations(x, ratio):\n",
    "    xc = x[x>0]\n",
    "    n = len(xc)\n",
    "    return sum(np.sum(xc==i) >= n*ratio for i in range(1, 4+1))\n",
    "\n",
    "#5. Max nc consecutive plies of same orientation\n",
    "def contiguous_violations(x, ncmax):\n",
    "    xc = x[x>0]\n",
    "    n = len(xc)\n",
    "    failed = 0\n",
    "    for i in range(n-ncmax-1):\n",
    "        s = set(xc[i:i+1+ncmax])\n",
    "        if len(s) > 1:\n",
    "            failed += 1\n",
    "    return failed\n",
    "    \n",
    "# vereinfachte version -> verheiratet 6 und 7\n",
    "#6. outer plies are +/- 45\n",
    "#7. outer plies are continuous, i.e. active in each cell\n",
    "def outer_ply_violations(x):\n",
    "    return sum([x[0] != 3, x[1] != 4, x[-2] != 4, x[-1] != 3])\n",
    "\n",
    "#8. for each cell, and each orientation: actual counts per orientation >= MinPlyCount\n",
    "def min_ply_violations(x, mincount):\n",
    "    return sum(plycount_per_orientation(x) < mincount)\n",
    "\n",
    "def implies(a, b):\n",
    "    return (not a) or (a and b)\n",
    "\n",
    "#9. +/- always together\n",
    "def plusminus_violations(x):\n",
    "    xc = x[x>0]\n",
    "    nc = len(xc)\n",
    "    failed = 0\n",
    "    for i in range(1, nc-1):\n",
    "        before, p, after = xc[i-1:i+2]\n",
    "        if not (implies(p==3, 4 in (before, after)) and implies(p==4, 3 in (before, after))):\n",
    "            failed += 1\n",
    "    return failed"
   ]
  },
  {
   "cell_type": "code",
   "execution_count": 19,
   "metadata": {},
   "outputs": [],
   "source": [
    "x = np.array([1, 1, 2, 2, 3, 3, 4, 4, 3, 3, 2, 2, 1, 1, 4, 4])\n",
    "y = np.array([3, 4, 0, 2, 1, 2, 1, 0, 3, 4, 1, 0, 4, 3, 0,0,0,0, 1, 1, 1, 4, 3])"
   ]
  },
  {
   "cell_type": "code",
   "execution_count": null,
   "metadata": {},
   "outputs": [],
   "source": []
  },
  {
   "cell_type": "code",
   "execution_count": null,
   "metadata": {},
   "outputs": [],
   "source": []
  },
  {
   "cell_type": "markdown",
   "metadata": {},
   "source": [
    "## objective function"
   ]
  },
  {
   "cell_type": "code",
   "execution_count": 24,
   "metadata": {},
   "outputs": [],
   "source": [
    "MINRATIO = 0.1\n",
    "MAXCONT = 2\n",
    "RHO_PEN = 10\n",
    "\n",
    "# simple representation: angle define dper layer and cell\n",
    "def f(x):\n",
    "    xm = x.reshape((ncells, nlayers)) \n",
    "    \n",
    "    # compute volume\n",
    "    objective = 0\n",
    "    for c in range(ncells):\n",
    "        objective += plycount(xm[c])\n",
    "    \n",
    "    # compute constraint violations\n",
    "    pcount = 0\n",
    "    \n",
    "    # single cell\n",
    "    for c in range(ncells):\n",
    "        xc = xm[c]\n",
    "        \n",
    "        pcount += symmetry_violations(xc)\n",
    "        pcount += balanced_violations(xc)\n",
    "        pcount += min_ratio_violations(xc, MINRATIO)\n",
    "        pcount += contiguous_violations(xc, MAXCONT)\n",
    "        pcount += outer_ply_violations(xc)\n",
    "        pcount += min_ply_violations(xc, MIN_ANGLE_COUNT[c])\n",
    "        pcount += plusminus_violations(xc)\n",
    "\n",
    "        #pcount += symmetry_violations(xc) > 0\n",
    "        #pcount += balanced_violations(xc) > 0\n",
    "        #pcount += min_ratio_violations(xc, MINRATIO) > 0\n",
    "        #pcount += contiguous_violations(xc, MAXCONT) > 0\n",
    "        #pcount += outer_ply_violations(xc) > 0\n",
    "        #pcount += min_ply_violations(xc, MIN_ANGLE_COUNT[c]) > 0\n",
    "        #pcount += plusminus_violations(xc) > 0\n",
    "\n",
    "        \n",
    "    # adjacent cells\n",
    "    for c1, c2 in adjacent:\n",
    "        xc1 = xm[c1]\n",
    "        xc2 = xm[c2]\n",
    "        pcount += neighbor_violations(xc1, xc2)\n",
    "        #pcount += neighbor_violations(xc1, xc2) > 0\n",
    "            \n",
    "    # penalised objective value\n",
    "    return objective + pcount * RHO_PEN\n",
    "\n",
    "def pointer_to_simple(xp):\n",
    "    orient = xp[:nlayers].reshape((1, nlayers))\n",
    "    active = xp[nlayers:].reshape((ncells, nlayers))\n",
    "    # convert to simple\n",
    "    return orient*active    \n",
    "\n",
    "# pointer representation, as in minizinc\n",
    "def f2(xp):\n",
    "    return f(pointer_to_simple(xp))\n",
    "    "
   ]
  },
  {
   "cell_type": "markdown",
   "metadata": {},
   "source": [
    "## Example"
   ]
  },
  {
   "cell_type": "code",
   "execution_count": 25,
   "metadata": {
    "scrolled": false
   },
   "outputs": [
    {
     "name": "stdout",
     "output_type": "stream",
     "text": [
      "112\n",
      "[[4 1 4 2 2 1 0 2 1 2 1 2 2 3 3 0 0 3 3 0 3]\n",
      " [1 4 1 2 0 2 1 2 3 1 2 0 2 3 3 0 3 0 2 1 4]\n",
      " [1 4 3 3 1 0 3 2 0 1 2 4 1 3 1 3 4 0 1 3 3]\n",
      " [4 2 3 3 4 3 4 2 2 2 1 2 4 4 3 4 3 1 0 0 3]\n",
      " [1 1 0 3 0 4 3 4 1 2 0 4 0 4 0 2 3 2 1 4 4]\n",
      " [3 4 4 4 3 3 0 3 2 2 3 4 1 2 0 2 4 1 2 2 0]\n",
      " [3 0 1 3 2 2 0 4 4 2 3 2 1 0 0 2 3 2 0 3 4]\n",
      " [3 3 1 1 4 4 3 0 3 2 1 1 4 0 1 3 3 1 3 2 1]\n",
      " [1 3 0 0 2 4 1 3 1 0 2 1 4 1 3 0 3 0 1 0 0]]\n",
      "mpv 0\n",
      "3334\n",
      "[3 2 1 4 4 0 3 3 2 3 1 3 0 1 3 1 3 3 1 2 2]\n",
      "[[0 0 1 1 0 0 1 1 1 0 0 0 1 0 1 0 0 0 0 1 0]\n",
      " [0 1 1 0 1 0 1 1 0 0 1 1 0 1 0 1 1 1 0 1 1]\n",
      " [1 0 1 1 0 1 1 1 1 1 1 0 0 1 0 1 1 1 0 0 1]\n",
      " [0 1 0 1 0 0 1 0 0 1 1 0 1 0 0 0 0 0 0 1 1]\n",
      " [1 1 0 1 1 0 0 1 1 1 0 1 1 1 0 1 0 0 1 0 0]\n",
      " [1 0 1 0 0 1 0 1 1 1 1 1 0 1 1 0 0 0 0 0 1]\n",
      " [0 0 0 1 0 1 1 0 1 0 0 1 0 0 1 1 0 0 0 0 0]\n",
      " [0 0 1 0 1 1 1 1 1 1 1 1 0 1 1 0 0 1 1 0 1]\n",
      " [1 0 0 0 0 1 0 0 0 1 1 0 1 0 1 0 0 0 1 0 1]]\n",
      "[[0 0 1 4 0 0 3 3 2 0 0 0 0 0 3 0 0 0 0 2 0]\n",
      " [0 2 1 0 4 0 3 3 0 0 1 3 0 1 0 1 3 3 0 2 2]\n",
      " [3 0 1 4 0 0 3 3 2 3 1 0 0 1 0 1 3 3 0 0 2]\n",
      " [0 2 0 4 0 0 3 0 0 3 1 0 0 0 0 0 0 0 0 2 2]\n",
      " [3 2 0 4 4 0 0 3 2 3 0 3 0 1 0 1 0 0 1 0 0]\n",
      " [3 0 1 0 0 0 0 3 2 3 1 3 0 1 3 0 0 0 0 0 2]\n",
      " [0 0 0 4 0 0 3 0 2 0 0 3 0 0 3 1 0 0 0 0 0]\n",
      " [0 0 1 0 4 0 3 3 2 3 1 3 0 1 3 0 0 3 1 0 2]\n",
      " [3 0 0 0 0 0 0 0 0 3 1 0 0 0 3 0 0 0 1 0 2]]\n"
     ]
    }
   ],
   "source": [
    "# lowest value we can get\n",
    "print(MIN_ANGLE_COUNT.sum())\n",
    "\n",
    "# create random vectors\n",
    "x1 = np.random.randint(0, 4+1, ncells*nlayers)\n",
    "print(x1.reshape((ncells, nlayers)))\n",
    "\n",
    "# compute function\n",
    "print('mpv', min_ply_violations(x1, MIN_ANGLE_COUNT[4]))\n",
    "print(f(x1))\n",
    "\n",
    "# pointer representation\n",
    "orient = np.random.randint(0, 4+1, nlayers)\n",
    "active = np.random.randint(0, 1+1, ncells*nlayers) #.reshape((ncells, nlayers))\n",
    "print(orient)\n",
    "print(active.reshape(ncells, nlayers))\n",
    "xp = np.concatenate([orient, active])\n",
    "print(pointer_to_simple(xp))"
   ]
  },
  {
   "cell_type": "markdown",
   "metadata": {},
   "source": [
    "## optimise"
   ]
  },
  {
   "cell_type": "code",
   "execution_count": 30,
   "metadata": {},
   "outputs": [],
   "source": [
    "# simple representation\n",
    "varbound_simple = np.array([(0, 4)]*ncells*nlayers)\n",
    "\n",
    "# pointer representation\n",
    "varbound_pointers = np.array([(0,4)]*nlayers + [(0,1)]*ncells*nlayers)\n",
    "\n",
    "algorithm_param = {'max_num_iteration': 1000,\n",
    "                   'population_size': 100,\n",
    "                   'mutation_probability': 0.2,\n",
    "                   'elit_ratio': 0.01,\n",
    "                   'crossover_probability': 0.5,\n",
    "                   'parents_portion': 0.3,\n",
    "                   'crossover_type': 'one_point', #'uniform', 'two_point'\n",
    "                   'max_iteration_without_improv': None}\n",
    "\n",
    "model=ga(function=f, \n",
    "         dimension=ncells*nlayers, \n",
    "         #dimension=nlayers + ncells*nlayers,\n",
    "         variable_type='int', \n",
    "         variable_boundaries=varbound_simple,\n",
    "         #variable_boundaries=varbound_pointers,\n",
    "         algorithm_parameters=algorithm_param)"
   ]
  },
  {
   "cell_type": "code",
   "execution_count": 31,
   "metadata": {},
   "outputs": [
    {
     "name": "stdout",
     "output_type": "stream",
     "text": [
      " The best solution found:                                                                           \n",
      " [2. 4. 0. 3. 0. 2. 1. 2. 2. 0. 2. 1. 0. 0. 1. 0. 0. 0. 1. 3. 0. 3. 3. 2.\n",
      " 2. 0. 2. 0. 0. 0. 2. 2. 0. 2. 0. 3. 4. 0. 1. 1. 0. 4. 1. 3. 2. 1. 1. 0.\n",
      " 3. 0. 0. 0. 1. 0. 4. 0. 0. 0. 1. 3. 1. 0. 0. 3. 2. 4. 2. 4. 0. 3. 2. 0.\n",
      " 1. 2. 1. 0. 0. 0. 0. 3. 2. 0. 2. 4. 0. 3. 0. 0. 4. 0. 4. 0. 0. 0. 3. 2.\n",
      " 0. 0. 2. 1. 2. 3. 4. 4. 3. 0. 0. 4. 2. 0. 3. 4. 2. 1. 2. 0. 0. 3. 2. 2.\n",
      " 4. 0. 0. 2. 3. 0. 0. 0. 2. 1. 1. 1. 0. 0. 0. 1. 0. 1. 0. 0. 1. 0. 1. 1.\n",
      " 2. 4. 3. 3. 2. 0. 0. 2. 2. 1. 1. 1. 1. 1. 0. 0. 3. 0. 0. 1. 3. 1. 4. 0.\n",
      " 0. 1. 0. 0. 2. 0. 1. 0. 1. 1. 2. 0. 0. 0. 2. 0. 3. 0. 0. 0. 0.]\n",
      "\n",
      " Objective function:\n",
      " 1979.0\n"
     ]
    },
    {
     "data": {
      "image/png": "[encoded data removed]",
      "text/plain": [
       "<Figure size 432x288 with 1 Axes>"
      ]
     },
     "metadata": {
      "needs_background": "light"
     },
     "output_type": "display_data"
    }
   ],
   "source": [
    "model.run()"
   ]
  },
  {
   "cell_type": "code",
   "execution_count": 32,
   "metadata": {},
   "outputs": [
    {
     "data": {
      "text/plain": [
       "756"
      ]
     },
     "execution_count": 32,
     "metadata": {},
     "output_type": "execute_result"
    }
   ],
   "source": [
    "9*21*4"
   ]
  },
  {
   "cell_type": "code",
   "execution_count": null,
   "metadata": {},
   "outputs": [],
   "source": []
  }
 ],
 "metadata": {
  "kernelspec": {
   "display_name": "Python 3",
   "language": "python",
   "name": "python3"
  },
  "language_info": {
   "codemirror_mode": {
    "name": "ipython",
    "version": 3
   },
   "file_extension": ".py",
   "mimetype": "text/x-python",
   "name": "python",
   "nbconvert_exporter": "python",
   "pygments_lexer": "ipython3",
   "version": "3.8.4"
  }
 },
 "nbformat": 4,
 "nbformat_minor": 4
}
