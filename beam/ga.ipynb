{
 "cells": [
  {
   "cell_type": "markdown",
   "metadata": {},
   "source": [
    "# Beam with Genetic Algorithms"
   ]
  },
  {
   "cell_type": "code",
   "execution_count": 9,
   "metadata": {},
   "outputs": [],
   "source": [
    "import numpy as np\n",
    "from geneticalgorithm import geneticalgorithm as ga\n",
    "from beam import Cantilever"
   ]
  },
  {
   "cell_type": "code",
   "execution_count": 69,
   "metadata": {},
   "outputs": [],
   "source": [
    "L = 1000\n",
    "loads = [16000, -30000]\n",
    "matname = 'AL7010'\n",
    "exr = -300 # €/kg, exchange rate\n",
    "\n",
    "x0 = [0, 180, 3.2, 50, 6, 50, 6]\n",
    "\n",
    "rfkeys = [\n",
    "    'rf_t_uf', \n",
    "    'rf_t_lf',\n",
    "    'rf_c_uf',\n",
    "    'rf_c_lf',\n",
    "    'rf_lb_uf',\n",
    "    'rf_lb_lf',\n",
    "    'rf_s_web',\n",
    "    'rf_wb',\n",
    "    'rf_lat',\n",
    "]\n",
    "\n",
    "\n",
    "def mass(x):\n",
    "    b = Cantilever(matname, L, *x, dstab=dstab)\n",
    "    return b.mass()\n",
    "\n",
    "def cost(x):\n",
    "    b = Cantilever(matname, L, *x, dstab=dstab)\n",
    "    return b.cost()\n",
    "\n",
    "def combined(x):\n",
    "    b = Cantilever(matname, L, *x, dstab=dstab)\n",
    "    return b.cost() - exr*b.mass()\n"
   ]
  },
  {
   "cell_type": "code",
   "execution_count": 84,
   "metadata": {},
   "outputs": [],
   "source": [
    "#objective function, incl. penalty\n",
    "rho_pen = 10 # penalty magitude, > 0\n",
    "mats = [\"AL7010\", \"AL2198\", \"TI64\"]\n",
    "\n",
    "\n",
    "def f(x):\n",
    "    global CALLED\n",
    "    b = Cantilever(mats[int(x[0])], L, *x[1:])\n",
    "    result = b.analyse(loads)\n",
    "    CALLED += 1\n",
    "    value = result['mass']\n",
    "    pcount = sum(result[k] < 1 for k in rfkeys)\n",
    "    \n",
    "    return result['mass'] + pcount * rho_pen\n",
    "        "
   ]
  },
  {
   "cell_type": "code",
   "execution_count": 78,
   "metadata": {},
   "outputs": [
    {
     "data": {
      "text/plain": [
       "3.2080319999999998"
      ]
     },
     "execution_count": 78,
     "metadata": {},
     "output_type": "execute_result"
    }
   ],
   "source": [
    "f(x0)"
   ]
  },
  {
   "cell_type": "code",
   "execution_count": 88,
   "metadata": {},
   "outputs": [
    {
     "name": "stdout",
     "output_type": "stream",
     "text": [
      " The best solution found:                                                                           \n",
      " [  1.00982081 235.08471577   3.71204336  21.08548121   9.17438378\n",
      "  32.90946717   3.93739561]\n",
      "\n",
      " Objective function:\n",
      " 3.0854220702874255\n"
     ]
    },
    {
     "data": {
      "image/png": "[encoded data removed]",
      "text/plain": [
       "<Figure size 432x288 with 1 Axes>"
      ]
     },
     "metadata": {
      "needs_background": "light"
     },
     "output_type": "display_data"
    },
    {
     "name": "stdout",
     "output_type": "stream",
     "text": [
      "7100\n"
     ]
    }
   ],
   "source": [
    "# x: [h, tw, blf, tlf, buf, tuf]    \n",
    "varbound = np.array([(0, 2), (50, 300), (1.5, 12), (6, 100), (1, 12), (6, 100), (1, 12)])\n",
    "vartype=np.array([['int'] + ['real']*6])\n",
    "algorithm_param = {'max_num_iteration': 100,\n",
    "                   'population_size': 100,\n",
    "                   'mutation_probability': 0.1,\n",
    "                   'elit_ratio': 0.01,\n",
    "                   'crossover_probability': 0.5,\n",
    "                   'parents_portion': 0.3,\n",
    "                   'crossover_type': 'uniform',\n",
    "                   'max_iteration_without_improv': None}\n",
    "\n",
    "model=ga(function=f, \n",
    "         dimension=7, \n",
    "         variable_type='real', # FIXME: use variable_type_mixed!!! \n",
    "         variable_boundaries=varbound, \n",
    "         algorithm_parameters=algorithm_param)\n",
    "\n",
    "CALLED = 0\n",
    "model.run()\n",
    "print(CALLED)"
   ]
  },
  {
   "cell_type": "code",
   "execution_count": 81,
   "metadata": {},
   "outputs": [
    {
     "data": {
      "text/plain": [
       "{'wmax': 19.250119073276547,\n",
       " 'rf_t_uf': 1.0185212601705684,\n",
       " 'rf_t_lf': 2.103214182856695,\n",
       " 'rf_c_uf': 1.6545107647216455,\n",
       " 'rf_c_lf': 1.0012128945677332,\n",
       " 'rf_lb_uf': 2.5672407102391923,\n",
       " 'rf_lb_lf': 7.0392806604992355,\n",
       " 'rf_s_web': 4.198830011201194,\n",
       " 'rf_wb': 1.0673866189246235,\n",
       " 'rf_lat': 1.400373057395337,\n",
       " 'Fmax': 30000,\n",
       " 'mass': 3.0188880233532527,\n",
       " 'cost': 625.6409848684348,\n",
       " 'area': 1122.2632057075289,\n",
       " 'L': 1000,\n",
       " 'h': 211.274053578812,\n",
       " 'tw': 3.4713547144725725,\n",
       " 'blf': 40.05396495724619,\n",
       " 'tlf': 6.104224410877583,\n",
       " 'buf': 49.77031100879984,\n",
       " 'tuf': 3.5756218835912197,\n",
       " 'matname': 'AL2198'}"
      ]
     },
     "execution_count": 81,
     "metadata": {},
     "output_type": "execute_result"
    }
   ],
   "source": [
    "xsol = model.best_variable\n",
    "matname = mats[int(xsol[0])]\n",
    "Cantilever(matname, L, *xsol[1:]).analyse(loads)"
   ]
  },
  {
   "cell_type": "code",
   "execution_count": 91,
   "metadata": {},
   "outputs": [
    {
     "data": {
      "text/plain": [
       "array([[ 0,  1,  2,  3,  4,  5,  6,  7,  8,  9],\n",
       "       [10, 11, 12, 13, 14, 15, 16, 17, 18, 19],\n",
       "       [20, 21, 22, 23, 24, 25, 26, 27, 28, 29],\n",
       "       [30, 31, 32, 33, 34, 35, 36, 37, 38, 39]])"
      ]
     },
     "execution_count": 91,
     "metadata": {},
     "output_type": "execute_result"
    }
   ],
   "source": [
    "a = np.arange(4*10).reshape((4,10))\n",
    "a"
   ]
  },
  {
   "cell_type": "code",
   "execution_count": 95,
   "metadata": {},
   "outputs": [
    {
     "data": {
      "text/plain": [
       "array([[0],\n",
       "       [1],\n",
       "       [2],\n",
       "       [3]])"
      ]
     },
     "execution_count": 95,
     "metadata": {},
     "output_type": "execute_result"
    }
   ],
   "source": [
    "b = np.arange(4).reshape((4, 1))\n",
    "b"
   ]
  },
  {
   "cell_type": "code",
   "execution_count": 96,
   "metadata": {},
   "outputs": [
    {
     "data": {
      "text/plain": [
       "array([[  0,   0,   0,   0,   0,   0,   0,   0,   0,   0],\n",
       "       [ 10,  11,  12,  13,  14,  15,  16,  17,  18,  19],\n",
       "       [ 40,  42,  44,  46,  48,  50,  52,  54,  56,  58],\n",
       "       [ 90,  93,  96,  99, 102, 105, 108, 111, 114, 117]])"
      ]
     },
     "execution_count": 96,
     "metadata": {},
     "output_type": "execute_result"
    }
   ],
   "source": [
    "a*b"
   ]
  },
  {
   "cell_type": "code",
   "execution_count": null,
   "metadata": {},
   "outputs": [],
   "source": []
  }
 ],
 "metadata": {
  "kernelspec": {
   "display_name": "Python 3",
   "language": "python",
   "name": "python3"
  },
  "language_info": {
   "codemirror_mode": {
    "name": "ipython",
    "version": 3
   },
   "file_extension": ".py",
   "mimetype": "text/x-python",
   "name": "python",
   "nbconvert_exporter": "python",
   "pygments_lexer": "ipython3",
   "version": "3.8.4"
  }
 },
 "nbformat": 4,
 "nbformat_minor": 4
}
