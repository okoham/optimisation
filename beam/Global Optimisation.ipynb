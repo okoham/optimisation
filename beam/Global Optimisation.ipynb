{
 "cells": [
  {
   "cell_type": "markdown",
   "metadata": {},
   "source": [
    "# Global Optimisers\n",
    "\n",
    "- show basic stuff: \n",
    "  - simulated annealing\n",
    "  - genetic algorithm\n",
    "\n",
    "- scipy implementations: specification of constraints not possible\n",
    "- need to find good penalty functions"
   ]
  },
  {
   "cell_type": "code",
   "execution_count": 36,
   "metadata": {},
   "outputs": [],
   "source": [
    "import numpy as np\n",
    "from scipy.optimize import shgo\n",
    "#from scipy.optimize import Bounds\n",
    "#from scipy.optimize import LinearConstraint\n",
    "from scipy.optimize import NonlinearConstraint\n",
    "#from scipy.optimize import SR1\n",
    "\n",
    "from beam import Cantilever"
   ]
  },
  {
   "cell_type": "code",
   "execution_count": 48,
   "metadata": {},
   "outputs": [
    {
     "name": "stdout",
     "output_type": "stream",
     "text": [
      "[(50, 300), (1.5, 12), (6, 100), (1, 12), (6, 100), (1, 12)]\n"
     ]
    }
   ],
   "source": [
    "L = 1000\n",
    "dstab = None\n",
    "loads = [16000, -30000]\n",
    "matname = 'TI64'\n",
    "exr = -300 # €/kg, exchange rate\n",
    "\n",
    "# x: [h, tw, blf, tlf, buf, tuf]\n",
    "bounds = list(zip([50, 1.5, 6, 1, 6, 1], [300, 12, 100, 12, 100, 12]))\n",
    "print(bounds)\n",
    "x0 = [180, 3.2, 50, 6, 50, 6]\n",
    "\n",
    "rfkeys = [\n",
    "    'rf_t_uf', \n",
    "    'rf_t_lf',\n",
    "    'rf_c_uf',\n",
    "    'rf_c_lf',\n",
    "    'rf_lb_uf',\n",
    "    'rf_lb_lf',\n",
    "    'rf_s_web',\n",
    "    'rf_wb',\n",
    "    'rf_lat',\n",
    "]\n",
    "\n",
    "def mass_penalty(x):\n",
    "    b = Cantilever(matname, L, *x, dstab=dstab)\n",
    "    result = b.analyse(loads)\n",
    "    target = result['mass']\n",
    "    rfmin = min(result[key] for key in rfkeys)\n",
    "    if rfmin < 1:\n",
    "        return target / rfmin\n",
    "    else:\n",
    "        return target\n",
    "\n",
    "\n",
    "def cost_penalty(x):\n",
    "    b = Cantilever(matname, L, *x, dstab=dstab)\n",
    "    result = b.analyse(loads)\n",
    "    target = result['cost']\n",
    "    rfmin = min(result[key] for key in rfkeys)\n",
    "    if rfmin < 1:\n",
    "        return target / rfmin\n",
    "    else:\n",
    "        return target\n",
    "\n",
    "def combined(x):\n",
    "    b = Cantilever(matname, L, *x, dstab=dstab)\n",
    "    return b.cost() - exr*b.mass()\n",
    "\n",
    "\n",
    "\n",
    "# TODO: formulate linear constraint\n",
    "# bf >= tw\n",
    "#linear_constraint = LinearConstraint([[1, 2], [2, 1]], [-np.inf, 1], [1, 1])\n",
    "\n",
    "# all rf >= 1\n",
    "#nonlinear_constraint = NonlinearConstraint(cons_f, 1, np.inf) "
   ]
  },
  {
   "cell_type": "code",
   "execution_count": 52,
   "metadata": {},
   "outputs": [],
   "source": [
    "res_m = shgo(mass_penalty, bounds, \n",
    "             sampling_method='sobol')"
   ]
  },
  {
   "cell_type": "code",
   "execution_count": 53,
   "metadata": {},
   "outputs": [
    {
     "data": {
      "text/plain": [
       "     fun: 3.318779278192845\n",
       "    funl: array([3.31877928])\n",
       " message: 'Optimization terminated successfully.'\n",
       "    nfev: 1119\n",
       "     nit: 2\n",
       "   nlfev: 919\n",
       "   nlhev: 0\n",
       "   nljev: 100\n",
       " success: True\n",
       "       x: array([150.34102212,   2.59072643,  20.87845765,   9.69872951,\n",
       "        36.57129529,   5.00897881])\n",
       "      xl: array([[150.34102212,   2.59072643,  20.87845765,   9.69872951,\n",
       "         36.57129529,   5.00897881]])"
      ]
     },
     "execution_count": 53,
     "metadata": {},
     "output_type": "execute_result"
    }
   ],
   "source": [
    "res_m"
   ]
  },
  {
   "cell_type": "code",
   "execution_count": 56,
   "metadata": {},
   "outputs": [
    {
     "name": "stdout",
     "output_type": "stream",
     "text": [
      "3.3168067492521334 3416.601369731434\n"
     ]
    },
    {
     "data": {
      "text/plain": [
       "{'wmax': 36.20135683483408,\n",
       " 'rf_t_uf': 1.0003198670334261,\n",
       " 'rf_t_lf': 1.8826793349716902,\n",
       " 'rf_c_uf': 1.7413353069623825,\n",
       " 'rf_c_lf': 0.999406007956334,\n",
       " 'rf_lb_uf': 7.312291495676757,\n",
       " 'rf_lb_lf': 50.67121859733051,\n",
       " 'rf_s_web': 4.06049291843876,\n",
       " 'rf_wb': 0.9994056462405703,\n",
       " 'rf_lat': 1.3998822656173837,\n",
       " 'Fmax': 30000,\n",
       " 'mass': 3.3168067492521334,\n",
       " 'cost': 3416.601369731434,\n",
       " 'area': 737.068166500474,\n",
       " 'L': 1000,\n",
       " 'h': 150.3410221177743,\n",
       " 'tw': 2.590726425469373,\n",
       " 'blf': 20.87845765070972,\n",
       " 'tlf': 9.698729507122035,\n",
       " 'buf': 36.57129528618308,\n",
       " 'tuf': 5.008978805299209,\n",
       " 'matname': 'TI64'}"
      ]
     },
     "execution_count": 56,
     "metadata": {},
     "output_type": "execute_result"
    }
   ],
   "source": [
    "bm = Cantilever(matname, L, *res_m.x)\n",
    "print(bm.mass(), bm.cost())\n",
    "bm.analyse(loads)"
   ]
  }
 ],
 "metadata": {
  "kernelspec": {
   "display_name": "Python 3",
   "language": "python",
   "name": "python3"
  },
  "language_info": {
   "codemirror_mode": {
    "name": "ipython",
    "version": 3
   },
   "file_extension": ".py",
   "mimetype": "text/x-python",
   "name": "python",
   "nbconvert_exporter": "python",
   "pygments_lexer": "ipython3",
   "version": "3.8.4"
  }
 },
 "nbformat": 4,
 "nbformat_minor": 4
}
