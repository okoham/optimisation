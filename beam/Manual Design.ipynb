{
 "cells": [
  {
   "cell_type": "code",
   "execution_count": 1,
   "metadata": {},
   "outputs": [],
   "source": [
    "%matplotlib inline\n",
    "import matplotlib.pyplot as plt\n",
    "import matplotlib as mpl\n",
    "\n",
    "from beam import Cantilever"
   ]
  },
  {
   "cell_type": "markdown",
   "metadata": {},
   "source": [
    "## Case 1: strength dominated design"
   ]
  },
  {
   "cell_type": "code",
   "execution_count": 7,
   "metadata": {},
   "outputs": [
    {
     "data": {
      "text/plain": [
       "{'wmax': 128.20138519433132,\n",
       " 'rf_t_uf': 1.014760579937766,\n",
       " 'rf_t_lf': 1.2766193517416151,\n",
       " 'rf_c_uf': 1.0180901154462736,\n",
       " 'rf_c_lf': 1.0625482730162876,\n",
       " 'rf_lb_uf': 1.104288493923847,\n",
       " 'rf_lb_lf': 1.7582694384200643,\n",
       " 'rf_s_web': 6.440833333333333,\n",
       " 'rf_wb': 1.2431778761248158,\n",
       " 'rf_lat': 0.5253682296432886,\n",
       " 'Fmax': 10000,\n",
       " 'mass': 4.8927,\n",
       " 'cost': 520.6373112000001,\n",
       " 'area': 867.5,\n",
       " 'L': 2000,\n",
       " 'h': 140,\n",
       " 'tw': 2.5,\n",
       " 'blf': 60,\n",
       " 'tlf': 5,\n",
       " 'buf': 60,\n",
       " 'tuf': 4,\n",
       " 'matname': 'AL7010'}"
      ]
     },
     "execution_count": 7,
     "metadata": {},
     "output_type": "execute_result"
    }
   ],
   "source": [
    "loads = [9000, -10000]\n",
    "\n",
    "c = Cantilever('AL7010', 2000, 140, 2.5, 60, 5, 60, 4)\n",
    "c.analyse(loads)"
   ]
  },
  {
   "cell_type": "code",
   "execution_count": 8,
   "metadata": {},
   "outputs": [
    {
     "data": {
      "image/png": "[encoded data removed]",
      "text/plain": [
       "<Figure size 432x288 with 1 Axes>"
      ]
     },
     "metadata": {
      "needs_background": "light"
     },
     "output_type": "display_data"
    }
   ],
   "source": [
    "def plot_section(beam):\n",
    "    vertices = [(0, 0), \n",
    "                (beam.blf/2, 0),\n",
    "                (beam.blf/2, beam.tlf),\n",
    "                (beam.tw/2, beam.tlf),\n",
    "                (beam.tw/2, beam.h - beam.tuf),\n",
    "                (beam.buf/2, beam.h - beam.tuf),\n",
    "                (beam.buf/2, beam.h),\n",
    "                (-beam.buf/2, beam.h),\n",
    "                (-beam.buf/2, beam.h - beam.tuf),\n",
    "                (-beam.tw/2, beam.h - beam.tuf),\n",
    "                (-beam.tw/2, beam.tlf),\n",
    "                (-beam.blf/2, beam.tlf),\n",
    "                (-beam.blf/2, 0),\n",
    "               ]\n",
    "    codes = [mpl.path.Path.MOVETO] + [mpl.path.Path.LINETO]*12\n",
    "    p = mpl.path.Path(vertices, codes)\n",
    "\n",
    "    fig, ax = plt.subplots()\n",
    "    ax.add_patch(mpl.patches.PathPatch(p))\n",
    "    bbox = p.get_extents()\n",
    "    ax.set_xlim(bbox.intervalx)\n",
    "    ax.set_ylim(bbox.intervaly)\n",
    "    ax.set_aspect(1.0)\n",
    "    ax.set_axis_off()\n",
    "\n",
    "    description = f\"h = {beam.h}\\n\" +\\\n",
    "    f\"tw = {beam.tw}\\n\" +\\\n",
    "    f\"buf = {beam.buf}\\n\" +\\\n",
    "    f\"tuf = {beam.tuf}\\n\" +\\\n",
    "    f\"blf = {beam.blf}\\n\" +\\\n",
    "    f\"tlf = {beam.tlf}\\n\\n\" +\\\n",
    "    f\"material = {beam.matname}\\n\" +\\\n",
    "    f\"area = {beam.area:.1f}\\n\" +\\\n",
    "    f\"mass = {beam.mass():.2f}\\n\" +\\\n",
    "    f\"cost = {beam.cost():.1f}\"\n",
    "\n",
    "    ax.text(0.6*beam.buf, beam.h, description,  \n",
    "            horizontalalignment='left',\n",
    "            verticalalignment='top',\n",
    "    );\n",
    "    \n",
    "plot_section(c)"
   ]
  },
  {
   "cell_type": "markdown",
   "metadata": {},
   "source": [
    "## Case 2: 1000"
   ]
  },
  {
   "cell_type": "code",
   "execution_count": 9,
   "metadata": {},
   "outputs": [
    {
     "data": {
      "text/plain": [
       "{'wmax': 24.25170754914758,\n",
       " 'rf_t_uf': 1.1077526400000002,\n",
       " 'rf_t_lf': 2.0770361999999998,\n",
       " 'rf_c_uf': 1.9013091428571431,\n",
       " 'rf_c_lf': 1.0140315428571427,\n",
       " 'rf_lb_uf': 6.909267952662724,\n",
       " 'rf_lb_lf': 3.684942908086785,\n",
       " 'rf_s_web': 3.5242666666666667,\n",
       " 'rf_wb': 1.11428070812484,\n",
       " 'rf_lat': 1.4061674873333296,\n",
       " 'Fmax': 30000,\n",
       " 'mass': 3.2080319999999998,\n",
       " 'cost': 279.45342719999996,\n",
       " 'area': 1137.6,\n",
       " 'L': 1000,\n",
       " 'h': 180,\n",
       " 'tw': 3.2,\n",
       " 'blf': 50,\n",
       " 'tlf': 6,\n",
       " 'buf': 50,\n",
       " 'tuf': 6,\n",
       " 'matname': 'AL7010'}"
      ]
     },
     "execution_count": 9,
     "metadata": {},
     "output_type": "execute_result"
    }
   ],
   "source": [
    "loads = [16000, -30000]\n",
    "\n",
    "c2 = Cantilever('AL7010', 1000, 180, 3.2, 50, 6, 50, 6)\n",
    "c2.analyse(loads)"
   ]
  },
  {
   "cell_type": "code",
   "execution_count": 5,
   "metadata": {},
   "outputs": [
    {
     "data": {
      "image/png": "[encoded data removed]",
      "text/plain": [
       "<Figure size 432x288 with 1 Axes>"
      ]
     },
     "metadata": {
      "needs_background": "light"
     },
     "output_type": "display_data"
    }
   ],
   "source": [
    "plot_section(c2)"
   ]
  },
  {
   "cell_type": "markdown",
   "metadata": {},
   "source": [
    "## Case 3: 2000, low load, stiffness constraint"
   ]
  },
  {
   "cell_type": "code",
   "execution_count": 6,
   "metadata": {},
   "outputs": [
    {
     "name": "stdout",
     "output_type": "stream",
     "text": [
      "wmax: 7.32\n",
      "rf_t_uf: 4.66\n",
      "rf_t_lf: 26.49\n",
      "rf_c_uf: 20.16\n",
      "rf_c_lf: 4.62\n",
      "rf_lb_uf: 5.61\n",
      "rf_lb_lf: 2.87\n",
      "rf_s_web: 23.21\n",
      "rf_wb: 0.69\n",
      "rf_lat: 2.07\n",
      "Fmax: 5000.00\n",
      "mass: 3.76\n",
      "cost: 838.88\n",
      "area: 890.00\n",
      "L: 1500.00\n",
      "h: 300.00\n",
      "tw: 2.00\n",
      "blf: 60.00\n",
      "tlf: 3.00\n",
      "buf: 60.00\n",
      "tuf: 2.00\n",
      "matname: AL7010\n"
     ]
    }
   ],
   "source": [
    "import math\n",
    "from numbers import Number\n",
    "\n",
    "loads = [1000, -5000]\n",
    "\n",
    "c2 = Cantilever('AL7010', 1500, 300, 2, 60, 3, 60, 2)\n",
    "for k, v in c2.analyse(loads).items():\n",
    "    if isinstance(v, Number):\n",
    "        if math.isfinite(v):\n",
    "            print(f\"{k}: {v:.2f}\")\n",
    "    else:\n",
    "        print(f\"{k}: {v}\")"
   ]
  },
  {
   "cell_type": "code",
   "execution_count": null,
   "metadata": {},
   "outputs": [],
   "source": []
  }
 ],
 "metadata": {
  "kernelspec": {
   "display_name": "Python 3",
   "language": "python",
   "name": "python3"
  },
  "language_info": {
   "codemirror_mode": {
    "name": "ipython",
    "version": 3
   },
   "file_extension": ".py",
   "mimetype": "text/x-python",
   "name": "python",
   "nbconvert_exporter": "python",
   "pygments_lexer": "ipython3",
   "version": "3.8.4"
  }
 },
 "nbformat": 4,
 "nbformat_minor": 4
}
