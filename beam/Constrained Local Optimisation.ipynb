{
 "cells": [
  {
   "cell_type": "markdown",
   "metadata": {},
   "source": [
    "# Constrained single objective optimisation\n",
    "\n",
    "- run 7010, 2098 separately\n",
    "- run reparately for cost, mass\n",
    "\n",
    "### combined: single objective cost / mass\n",
    "\n",
    "- exchange rate r = 300 €/kg\n",
    "- minimise m + c/r or c + m*r ???"
   ]
  },
  {
   "cell_type": "code",
   "execution_count": 3,
   "metadata": {},
   "outputs": [],
   "source": [
    "import numpy as np\n",
    "from scipy.optimize import minimize\n",
    "from scipy.optimize import Bounds\n",
    "from scipy.optimize import LinearConstraint\n",
    "from scipy.optimize import NonlinearConstraint\n",
    "from scipy.optimize import SR1\n",
    "\n",
    "from beam import Cantilever\n",
    "from functools import partial"
   ]
  },
  {
   "cell_type": "markdown",
   "metadata": {},
   "source": [
    "## funktion"
   ]
  },
  {
   "cell_type": "code",
   "execution_count": 44,
   "metadata": {},
   "outputs": [],
   "source": [
    "L = 1000\n",
    "dstab = None\n",
    "loads = [16000, -30000]\n",
    "matname = 'AL7010'\n",
    "exr = -300 # €/kg, exchange rate\n",
    "\n",
    "# x: [h, tw, blf, tlf, buf, tuf]\n",
    "bounds = Bounds([10, 1.5, 6, 0, 6, 0], [300, 12, 100, 12, 100, 12])\n",
    "x0 = [180, 3.2, 50, 6, 50, 6]\n",
    "\n",
    "rfkeys = [\n",
    "    'rf_t_uf', \n",
    "    'rf_t_lf',\n",
    "    'rf_c_uf',\n",
    "    'rf_c_lf',\n",
    "    'rf_lb_uf',\n",
    "    'rf_lb_lf',\n",
    "    'rf_s_web',\n",
    "    'rf_wb',\n",
    "    'rf_lat',\n",
    "]\n",
    "\n",
    "\n",
    "def mass(x):\n",
    "    b = Cantilever(matname, L, *x, dstab=dstab)\n",
    "    return b.mass()\n",
    "\n",
    "def cost(x):\n",
    "    b = Cantilever(matname, L, *x, dstab=dstab)\n",
    "    return b.cost()\n",
    "\n",
    "def combined(x):\n",
    "    b = Cantilever(matname, L, *x, dstab=dstab)\n",
    "    return b.cost() - exr*b.mass()\n",
    "\n",
    "# nonlinear constraint functions\n",
    "def cons_f(x):\n",
    "    b = Cantilever(matname, L, *x, dstab=dstab)\n",
    "    result = b.analyse(loads)\n",
    "    return [min(result[key], 9999) for key in rfkeys]\n",
    "\n",
    "def rf_constraint(fmode, x):\n",
    "    b = Cantilever(matname, L, *x, dstab=dstab)\n",
    "    func = getattr(b, fmode)\n",
    "    results = [9999] + [func(F) for F in loads]\n",
    "    return min(results)\n",
    "\n",
    "\n",
    "# TODO: formulate linear constraint\n",
    "# bf >= tw\n",
    "#linear_constraint = LinearConstraint([[1, 2], [2, 1]], [-np.inf, 1], [1, 1])\n",
    "\n",
    "# all rf >= 1\n",
    "nonlinear_constraints = [\n",
    "    #NonlinearConstraint(cons_f, 1, np.inf),\n",
    "    NonlinearConstraint(partial(rf_constraint, key), 1, np.inf)\n",
    "    for key in rfkeys\n",
    "]"
   ]
  },
  {
   "cell_type": "markdown",
   "metadata": {},
   "source": [
    "### optimise mass"
   ]
  },
  {
   "cell_type": "code",
   "execution_count": 45,
   "metadata": {},
   "outputs": [
    {
     "name": "stdout",
     "output_type": "stream",
     "text": [
      "`gtol` termination condition is satisfied.\n",
      "Number of iterations: 150, function evaluations: 1799, CG iterations: 191, optimality: 4.19e-09, constraint violation: 0.00e+00, execution time:  3.9 s.\n",
      " barrier_parameter: 1.0240000000000006e-08\n",
      " barrier_tolerance: 1.0240000000000006e-08\n",
      "          cg_niter: 191\n",
      "      cg_stop_cond: 4\n",
      "            constr: [array([1.00000001]), array([1.90881421]), array([1.66270627]), array([1.00000002]), array([1.00000397]), array([68.17630958]), array([3.46535325]), array([1.00000003]), array([1.83487141]), array([185.96081158,   3.09978118,  23.96073905,  11.99999898,\n",
      "        69.88464206,   3.42838559])]\n",
      "       constr_nfev: [1799, 1799, 1799, 1799, 1799, 1799, 1799, 1799, 1799, 0]\n",
      "       constr_nhev: [0, 0, 0, 0, 0, 0, 0, 0, 0, 0]\n",
      "       constr_njev: [0, 0, 0, 0, 0, 0, 0, 0, 0, 0]\n",
      "    constr_penalty: 1.0\n",
      "  constr_violation: 0.0\n",
      "    execution_time: 3.8653342723846436\n",
      "               fun: 2.977168616975813\n",
      "              grad: array([0.00874138, 0.48090143, 0.03384   , 0.0588279 , 0.00966805,\n",
      "       0.18833331])\n",
      "               jac: [array([[0.00729772, 0.08525315, 0.00588554, 0.00764054, 0.00850991,\n",
      "        0.16078209]]), array([[0.01406187, 0.12879476, 0.05144278, 0.07961493, 0.00396327,\n",
      "        0.07213074]]), array([[0.01179266, 0.1423066 , 0.0091276 , 0.01163922, 0.01435055,\n",
      "        0.28957354]]), array([[0.00656691, 0.06613083, 0.02854111, 0.05675896, 0.00159037,\n",
      "        0.02849863]]), array([[ 0.00729775,  0.11520052,  0.00588557,  0.00764056, -0.02143708,\n",
      "         0.74415001]]), array([[ 0.50224198, 11.13636668, -4.6988988 , 14.20629223,  0.14155443,\n",
      "         2.5762628 ]]), array([[ 0.02032079,  1.11793479,  0.        , -0.02032079,  0.        ,\n",
      "        -0.0203208 ]]), array([[-0.00533298,  0.7740653 ,  0.02156058,  0.05317073,  0.0012014 ,\n",
      "         0.03182226]]), array([[0.01220925, 0.16896586, 0.04683606, 0.21334583, 0.00562543,\n",
      "        0.13702646]]), array([[1., 0., 0., 0., 0., 0.],\n",
      "       [0., 1., 0., 0., 0., 0.],\n",
      "       [0., 0., 1., 0., 0., 0.],\n",
      "       [0., 0., 0., 1., 0., 0.],\n",
      "       [0., 0., 0., 0., 1., 0.],\n",
      "       [0., 0., 0., 0., 0., 1.]])]\n",
      "   lagrangian_grad: array([-4.19206779e-09, -6.09403391e-11,  9.11675522e-10,  7.12971349e-16,\n",
      "        1.78488738e-09,  9.47431739e-11])\n",
      "           message: '`gtol` termination condition is satisfied.'\n",
      "            method: 'tr_interior_point'\n",
      "              nfev: 1799\n",
      "              nhev: 0\n",
      "               nit: 150\n",
      "             niter: 150\n",
      "              njev: 257\n",
      "        optimality: 4.1920677890904726e-09\n",
      "            status: 1\n",
      "           success: True\n",
      "         tr_radius: 61.9571098291631\n",
      "                 v: [array([-0.95685188]), array([-1.12601771e-08]), array([-1.54592222e-08]), array([-0.63971957]), array([-0.00213705]), array([-1.50978518e-10]), array([-4.12802174e-09]), array([-0.46091125]), array([-1.22714503e-08]), array([ 3.20566556e-11, -5.22576123e-09, -4.38448971e-10,  9.31610161e-03,\n",
      "        1.77331546e-10, -1.80153792e-09])]\n",
      "                 x: array([185.96081158,   3.09978118,  23.96073905,  11.99999898,\n",
      "        69.88464206,   3.42838559])\n"
     ]
    }
   ],
   "source": [
    "res_m = minimize(mass, x0, method='trust-constr',  jac=\"2-point\", hess=SR1(),\n",
    "               constraints=nonlinear_constraints,\n",
    "               options={'verbose': 1}, bounds=bounds)\n",
    "\n",
    "\n",
    "\n",
    "print(res_m)"
   ]
  },
  {
   "cell_type": "code",
   "execution_count": 46,
   "metadata": {},
   "outputs": [
    {
     "name": "stdout",
     "output_type": "stream",
     "text": [
      "2.977168616975813 398.36481743348713\n"
     ]
    },
    {
     "data": {
      "text/plain": [
       "{'wmax': 25.773436813800018,\n",
       " 'rf_t_uf': 1.0000000133295703,\n",
       " 'rf_t_lf': 1.9088142091495075,\n",
       " 'rf_c_uf': 1.6627062661755485,\n",
       " 'rf_c_lf': 1.0000000151419373,\n",
       " 'rf_lb_uf': 1.0000039692616527,\n",
       " 'rf_lb_lf': 68.17630958164568,\n",
       " 'rf_s_web': 3.465353253281223,\n",
       " 'rf_wb': 1.0000000257567954,\n",
       " 'rf_lat': 1.8348714109334032,\n",
       " 'Fmax': 30000,\n",
       " 'mass': 2.977168616975813,\n",
       " 'cost': 398.36481743348713,\n",
       " 'area': 1055.7335521190826,\n",
       " 'L': 1000,\n",
       " 'h': 185.96081158167237,\n",
       " 'tw': 3.0997811817767125,\n",
       " 'blf': 23.96073904928083,\n",
       " 'tlf': 11.999998982212725,\n",
       " 'buf': 69.88464206261604,\n",
       " 'tuf': 3.428385589674079,\n",
       " 'matname': 'AL7010'}"
      ]
     },
     "execution_count": 46,
     "metadata": {},
     "output_type": "execute_result"
    }
   ],
   "source": [
    "bm = Cantilever('AL7010', L, *res_m.x)\n",
    "print(bm.mass(), bm.cost())\n",
    "bm.analyse(loads)"
   ]
  },
  {
   "cell_type": "markdown",
   "metadata": {},
   "source": [
    "### optimise cost"
   ]
  },
  {
   "cell_type": "code",
   "execution_count": 47,
   "metadata": {},
   "outputs": [
    {
     "name": "stderr",
     "output_type": "stream",
     "text": [
      "c:\\program files\\python38\\lib\\site-packages\\scipy\\optimize\\_hessian_update_strategy.py:182: UserWarning: delta_grad == 0.0. Check if the approximated function is linear. If the function is linear better results can be obtained by defining the Hessian as zero instead of using quasi-Newton approximations.\n",
      "  warn('delta_grad == 0.0. Check if the approximated '\n"
     ]
    },
    {
     "name": "stdout",
     "output_type": "stream",
     "text": [
      "`xtol` termination condition is satisfied.\n",
      "Number of iterations: 647, function evaluations: 8561, CG iterations: 772, optimality: 2.00e+00, constraint violation: 0.00e+00, execution time: 1.6e+01 s.\n",
      " barrier_parameter: 2.048000000000001e-09\n",
      " barrier_tolerance: 2.048000000000001e-09\n",
      "          cg_niter: 772\n",
      "      cg_stop_cond: 2\n",
      "            constr: [array([1.04028625]), array([1.95110816]), array([1.92607828]), array([1.02977948]), array([9998.99996853]), array([5480.94704773]), array([11.44035721]), array([23.74092814]), array([4.58340506]), array([168.79260846,  11.96252522,  14.2230313 ,  11.53200596,\n",
      "        14.22303129,  11.37675245])]\n",
      "       constr_nfev: [8561, 8561, 8561, 8561, 8561, 8561, 8561, 8561, 8561, 0]\n",
      "       constr_nhev: [0, 0, 0, 0, 0, 0, 0, 0, 0, 0]\n",
      "       constr_njev: [0, 0, 0, 0, 0, 0, 0, 0, 0, 0]\n",
      "    constr_penalty: 1.0\n",
      "  constr_violation: 0.0\n",
      "    execution_time: 15.94380235671997\n",
      "               fun: 71.07978631358847\n",
      "              grad: array([ 0.40503961, -2.0569623 ,  4.79612514, -0.03187315,  4.54167248,\n",
      "       -0.03187313])\n",
      "               jac: [array([[0.01199497, 0.05269697, 0.00912662, 0.00145996, 0.01969265,\n",
      "        0.00343451]]), array([[0.02249439, 0.09854268, 0.03735883, 0.00641494, 0.01693965,\n",
      "        0.00275578]]), array([[0.0204312 , 0.09759038, 0.01534171, 0.00242043, 0.03799789,\n",
      "        0.03301541]]), array([[0.01090652, 0.0519978 , 0.02056336, 0.0176746 , 0.00810524,\n",
      "        0.00130049]]), array([[   12.51229501,   176.54992289,    87.72307137,    14.03277549,\n",
      "        -8657.40898053,   185.6402265 ]]), array([[   63.19002982,  5126.13105971, -4744.36267129,   968.58316038,\n",
      "           47.58594654,     7.74138115]]), array([[ 0.078421  ,  0.95634968,  0.        , -0.078421  ,  0.        ,\n",
      "        -0.07842099]]), array([[-0.07674305,  5.19199294,  0.45959753,  0.71554004,  0.18115471,\n",
      "         0.34957344]]), array([[0.05182676, 0.61655739, 0.04258667, 0.04457903, 0.04181434,\n",
      "        0.04355713]]), array([[1., 0., 0., 0., 0., 0.],\n",
      "       [0., 1., 0., 0., 0., 0.],\n",
      "       [0., 0., 1., 0., 0., 0.],\n",
      "       [0., 0., 0., 1., 0., 0.],\n",
      "       [0., 0., 0., 0., 1., 0.],\n",
      "       [0., 0., 0., 0., 0., 1.]])]\n",
      "   lagrangian_grad: array([-0.52986755, -0.00684744,  1.93176294, -0.12981249,  1.99700562,\n",
      "       -0.04963432])\n",
      "           message: '`xtol` termination condition is satisfied.'\n",
      "            method: 'tr_interior_point'\n",
      "              nfev: 8561\n",
      "              nhev: 0\n",
      "               nit: 647\n",
      "             niter: 647\n",
      "              njev: 1223\n",
      "        optimality: 1.9970056177441478\n",
      "            status: 2\n",
      "           success: True\n",
      "         tr_radius: 1.0000000000000005e-09\n",
      "                 v: [array([-30.73369539]), array([-0.10218102]), array([-0.10735696]), array([-53.46734798]), array([0.00017145]), array([0.00030852]), array([0.00031219]), array([-0.00221304]), array([-0.00982329]), array([ 5.17926395e-05,  4.87590726e+00, -2.88312153e-02,  5.93677364e-01,\n",
      "       -2.98049506e-02,  1.28162916e-01])]\n",
      "                 x: array([168.79260846,  11.96252522,  14.2230313 ,  11.53200596,\n",
      "        14.22303129,  11.37675245])\n"
     ]
    }
   ],
   "source": [
    "res_c = minimize(cost, x0, method='trust-constr',  jac=\"2-point\", #hess=SR1(),\n",
    "               constraints=nonlinear_constraints,\n",
    "               options={'verbose': 1}, bounds=bounds)\n",
    "\n",
    "print(res_c)"
   ]
  },
  {
   "cell_type": "code",
   "execution_count": 48,
   "metadata": {},
   "outputs": [
    {
     "name": "stdout",
     "output_type": "stream",
     "text": [
      "5.840138847834993 71.07978631358847\n"
     ]
    },
    {
     "data": {
      "text/plain": [
       "{'wmax': 27.535168314671054,\n",
       " 'rf_t_uf': 1.0402862489464597,\n",
       " 'rf_t_lf': 1.951108162165827,\n",
       " 'rf_c_uf': 1.9260782840828685,\n",
       " 'rf_c_lf': 1.029779476340058,\n",
       " 'rf_lb_uf': 9998.999968529002,\n",
       " 'rf_lb_lf': 5480.9470477276545,\n",
       " 'rf_s_web': 11.440357206107738,\n",
       " 'rf_wb': 23.74092814007761,\n",
       " 'rf_lat': 4.583405063152204,\n",
       " 'Fmax': 30000,\n",
       " 'mass': 5.840138847834993,\n",
       " 'cost': 71.07978631358847,\n",
       " 'area': 2070.9712226365223,\n",
       " 'L': 1000,\n",
       " 'h': 168.79260845535828,\n",
       " 'tw': 11.962525216864327,\n",
       " 'blf': 14.223031297271964,\n",
       " 'tlf': 11.532005962075289,\n",
       " 'buf': 14.223031286302902,\n",
       " 'tuf': 11.37675245384809,\n",
       " 'matname': 'AL7010'}"
      ]
     },
     "execution_count": 48,
     "metadata": {},
     "output_type": "execute_result"
    }
   ],
   "source": [
    "bc = Cantilever('AL7010', L, *res_c.x)\n",
    "print(bc.mass(), bc.cost())\n",
    "bc.analyse(loads)"
   ]
  },
  {
   "cell_type": "markdown",
   "metadata": {},
   "source": [
    "## Optimise combined"
   ]
  },
  {
   "cell_type": "code",
   "execution_count": 50,
   "metadata": {},
   "outputs": [
    {
     "name": "stdout",
     "output_type": "stream",
     "text": [
      "`xtol` termination condition is satisfied.\n",
      "Number of iterations: 603, function evaluations: 7189, CG iterations: 791, optimality: 2.40e+00, constraint violation: 0.00e+00, execution time: 1.5e+01 s.\n",
      " barrier_parameter: 2.048000000000001e-09\n",
      " barrier_tolerance: 2.048000000000001e-09\n",
      "          cg_niter: 791\n",
      "      cg_stop_cond: 4\n",
      "            constr: [array([1.00010157]), array([1.92916617]), array([1.79691869]), array([1.00006774]), array([140.8503262]), array([90.96695816]), array([3.74687363]), array([1.00018897]), array([2.30916755]), array([201.17767771,   3.20886573,  21.36372164,  11.99946471,\n",
      "        21.36372161,  11.06013569])]\n",
      "       constr_nfev: [7189, 7189, 7189, 7189, 7189, 7189, 7189, 7189, 7189, 0]\n",
      "       constr_nhev: [0, 0, 0, 0, 0, 0, 0, 0, 0, 0]\n",
      "       constr_njev: [0, 0, 0, 0, 0, 0, 0, 0, 0, 0]\n",
      "    constr_penalty: 1.0\n",
      "  constr_violation: 0.0\n",
      "    execution_time: 14.785714387893677\n",
      "               fun: 1046.13386594507\n",
      "              grad: array([  3.44574224, 148.17642617,  15.85981948,  15.10302453,\n",
      "        14.39949491,  15.1030234 ])\n",
      "               jac: [array([[0.00720181, 0.0824631 , 0.00725114, 0.00863233, 0.02717585,\n",
      "        0.04048557]]), array([[0.01376222, 0.14688887, 0.05428827, 0.07369905, 0.01394982,\n",
      "        0.01856502]]), array([[0.01186088, 0.14884441, 0.01077845, 0.01232517, 0.05097563,\n",
      "        0.09582131]]), array([[0.00644519, 0.07570549, 0.02960117, 0.05174328, 0.00583924,\n",
      "        0.00746962]]), array([[  1.01427457,  27.13031944,   1.02122137,   1.21574341,\n",
      "        -11.689207  ,  31.1717366 ]]), array([[ 0.64893703, 16.94755193, -7.46134359, 18.63700493,  0.65778311,\n",
      "         0.87540597]]), array([[ 0.0210359 ,  1.16766294,  0.        , -0.0210359 ,  0.        ,\n",
      "        -0.0210359 ]]), array([[-0.00496483,  0.75029003,  0.02318347,  0.0505377 ,  0.00457326,\n",
      "         0.01586283]]), array([[0.01454153, 0.19062598, 0.04778932, 0.17383374, 0.04158174,\n",
      "        0.15409723]]), array([[1., 0., 0., 0., 0., 0.],\n",
      "       [0., 1., 0., 0., 0., 0.],\n",
      "       [0., 0., 1., 0., 0., 0.],\n",
      "       [0., 0., 0., 1., 0., 0.],\n",
      "       [0., 0., 0., 0., 1., 0.],\n",
      "       [0., 0., 0., 0., 0., 1.]])]\n",
      "   lagrangian_grad: array([-6.80981436e-01,  1.21484921e-02,  2.72525561e-02, -3.56023421e-06,\n",
      "        2.39949813e+00, -1.51905846e+00])\n",
      "           message: '`xtol` termination condition is satisfied.'\n",
      "            method: 'tr_interior_point'\n",
      "              nfev: 7189\n",
      "              nhev: 0\n",
      "               nit: 603\n",
      "             niter: 603\n",
      "              njev: 1027\n",
      "        optimality: 2.399498131933564\n",
      "            status: 2\n",
      "           success: True\n",
      "         tr_radius: 7.404612071296745e-09\n",
      "                 v: [array([-342.78546193]), array([0.00096934]), array([0.04600583]), array([-353.852363]), array([0.00387221]), array([2.35824016e-05]), array([-0.00421654]), array([-124.25515213]), array([0.08202971]), array([ 8.83629540e-05, -4.31731982e-03, -1.19862728e-04,  1.24249291e+01,\n",
      "       -1.05535106e-02,  1.73208431e+00])]\n",
      "                 x: array([201.17767771,   3.20886573,  21.36372164,  11.99946471,\n",
      "        21.36372161,  11.06013569])\n"
     ]
    }
   ],
   "source": [
    "res_cm = minimize(combined, x0, method='trust-constr',  jac=\"2-point\", hess=SR1(),\n",
    "               constraints=nonlinear_constraints,\n",
    "               options={'verbose': 1}, bounds=bounds)\n",
    "\n",
    "print(res_cm)"
   ]
  },
  {
   "cell_type": "code",
   "execution_count": 52,
   "metadata": {},
   "outputs": [
    {
     "name": "stdout",
     "output_type": "stream",
     "text": [
      "3.001032374255838 145.82415366831867\n"
     ]
    },
    {
     "data": {
      "text/plain": [
       "{'wmax': 23.69819713078809,\n",
       " 'rf_t_uf': 1.0001015746673427,\n",
       " 'rf_t_lf': 1.9291661686116273,\n",
       " 'rf_c_uf': 1.7969186937289294,\n",
       " 'rf_c_lf': 1.000067740555923,\n",
       " 'rf_lb_uf': 140.85032620007897,\n",
       " 'rf_lb_lf': 90.96695816230493,\n",
       " 'rf_s_web': 3.746873625582107,\n",
       " 'rf_wb': 1.0001889700409239,\n",
       " 'rf_lat': 2.309167550578753,\n",
       " 'Fmax': 30000,\n",
       " 'mass': 3.001032374255838,\n",
       " 'cost': 145.82415366831867,\n",
       " 'area': 1064.1958773956871,\n",
       " 'L': 1000,\n",
       " 'h': 201.17767771190483,\n",
       " 'tw': 3.208865727396388,\n",
       " 'blf': 21.36372164464666,\n",
       " 'tlf': 11.999464705979447,\n",
       " 'buf': 21.363721607875203,\n",
       " 'tuf': 11.060135688737672,\n",
       " 'matname': 'AL7010'}"
      ]
     },
     "execution_count": 52,
     "metadata": {},
     "output_type": "execute_result"
    }
   ],
   "source": [
    "bcm = Cantilever('AL7010', L, *res_cm.x)\n",
    "print(bcm.mass(), bcm.cost())\n",
    "bcm.analyse(loads)"
   ]
  },
  {
   "cell_type": "code",
   "execution_count": 58,
   "metadata": {},
   "outputs": [
    {
     "data": {
      "text/plain": [
       "472.49999999999994"
      ]
     },
     "execution_count": 58,
     "metadata": {},
     "output_type": "execute_result"
    }
   ],
   "source": [
    "45* 60* 1.4/8"
   ]
  },
  {
   "cell_type": "code",
   "execution_count": null,
   "metadata": {},
   "outputs": [],
   "source": []
  }
 ],
 "metadata": {
  "kernelspec": {
   "display_name": "Python 3",
   "language": "python",
   "name": "python3"
  },
  "language_info": {
   "codemirror_mode": {
    "name": "ipython",
    "version": 3
   },
   "file_extension": ".py",
   "mimetype": "text/x-python",
   "name": "python",
   "nbconvert_exporter": "python",
   "pygments_lexer": "ipython3",
   "version": "3.8.4"
  }
 },
 "nbformat": 4,
 "nbformat_minor": 4
}
