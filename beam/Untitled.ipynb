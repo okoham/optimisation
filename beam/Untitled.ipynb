{
 "cells": [
  {
   "cell_type": "code",
   "execution_count": 1,
   "metadata": {},
   "outputs": [],
   "source": [
    "%matplotlib inline\n",
    "import matplotlib.pyplot as plt\n",
    "import pandas as pd\n",
    "import numpy as np\n",
    "import random\n",
    "\n",
    "from beam import Cantilever, MATERIALS"
   ]
  },
  {
   "cell_type": "code",
   "execution_count": 186,
   "metadata": {},
   "outputs": [],
   "source": [
    "N = 1000\n",
    "    \n",
    "all_res = []\n",
    "\n",
    "# TODO: is uniform sampling reasonable? Or from a logarithmic scale?\n",
    "for i in range(N):\n",
    "    h = random.uniform(10, 500)\n",
    "    tw = random.uniform(1.5, 10)\n",
    "    blf = random.uniform(1, 100)\n",
    "    tlf = random.uniform(1, 12)\n",
    "    buf = random.uniform(1, 100)\n",
    "    tuf = random.uniform(1, 12)\n",
    "    F = random.uniform(-100000, 100000)\n",
    "    L = random.uniform(500, 3000)\n",
    "    matname = random.choice(list(MATERIALS.keys()))\n",
    "\n",
    "    if (buf >= tw) and (blf >= tw) and (buf+blf < h/2) and (L > 3*h):\n",
    "        params = {'L': L, 'h': h, 'tw': tw, 'blf': blf, \n",
    "                  'tlf': tlf, 'buf': buf, 'tuf': tuf, 'F': F, 'matname': matname}\n",
    "        beam = Cantilever(matname, L, h, tw, blf, tlf, buf, tuf) \n",
    "        res = beam.analyse_single(F)  \n",
    "        res.update(params)\n",
    "        all_res.append(res)"
   ]
  },
  {
   "cell_type": "code",
   "execution_count": 187,
   "metadata": {},
   "outputs": [
    {
     "data": {
      "text/plain": [
       "408"
      ]
     },
     "execution_count": 187,
     "metadata": {},
     "output_type": "execute_result"
    }
   ],
   "source": [
    "# some values are nan (probably because of strange geometry), drop them\n",
    "df = pd.DataFrame(all_res).dropna()\n",
    "len(df)"
   ]
  },
  {
   "cell_type": "code",
   "execution_count": 188,
   "metadata": {},
   "outputs": [],
   "source": [
    "# separate features and targets\n",
    "feature_cols = ['L', 'h', 'tw', 'blf', 'tlf', 'buf', 'tuf', 'matname', 'F']\n",
    "target_cols = ['wmax', 'rf_t_uf', 'rf_t_lf', 'rf_c_uf', 'rf_c_lf', 'rf_lb_uf',\n",
    "               'rf_lb_lf', 'rf_s_web', 'rf_wb', 'rf_lat', 'mass', 'cost']\n",
    "\n",
    "dfx = df[feature_cols]\n",
    "dfy = df[target_cols]\n"
   ]
  },
  {
   "cell_type": "code",
   "execution_count": 189,
   "metadata": {},
   "outputs": [
    {
     "data": {
      "text/html": [
       "<div>\n",
       "<style scoped>\n",
       "    .dataframe tbody tr th:only-of-type {\n",
       "        vertical-align: middle;\n",
       "    }\n",
       "\n",
       "    .dataframe tbody tr th {\n",
       "        vertical-align: top;\n",
       "    }\n",
       "\n",
       "    .dataframe thead th {\n",
       "        text-align: right;\n",
       "    }\n",
       "</style>\n",
       "<table border=\"1\" class=\"dataframe\">\n",
       "  <thead>\n",
       "    <tr style=\"text-align: right;\">\n",
       "      <th></th>\n",
       "      <th>wmax</th>\n",
       "      <th>rf_t_uf</th>\n",
       "      <th>rf_t_lf</th>\n",
       "      <th>rf_c_uf</th>\n",
       "      <th>rf_c_lf</th>\n",
       "      <th>rf_lb_uf</th>\n",
       "      <th>rf_lb_lf</th>\n",
       "      <th>rf_s_web</th>\n",
       "      <th>rf_wb</th>\n",
       "      <th>rf_lat</th>\n",
       "      <th>mass</th>\n",
       "      <th>cost</th>\n",
       "    </tr>\n",
       "  </thead>\n",
       "  <tbody>\n",
       "    <tr>\n",
       "      <th>count</th>\n",
       "      <td>408.000000</td>\n",
       "      <td>408.000000</td>\n",
       "      <td>408.000000</td>\n",
       "      <td>408.000000</td>\n",
       "      <td>408.000000</td>\n",
       "      <td>4.080000e+02</td>\n",
       "      <td>408.000000</td>\n",
       "      <td>408.000000</td>\n",
       "      <td>408.000000</td>\n",
       "      <td>408.000000</td>\n",
       "      <td>408.000000</td>\n",
       "      <td>408.000000</td>\n",
       "    </tr>\n",
       "    <tr>\n",
       "      <th>mean</th>\n",
       "      <td>74.265945</td>\n",
       "      <td>inf</td>\n",
       "      <td>inf</td>\n",
       "      <td>inf</td>\n",
       "      <td>inf</td>\n",
       "      <td>inf</td>\n",
       "      <td>inf</td>\n",
       "      <td>49.818235</td>\n",
       "      <td>21.152237</td>\n",
       "      <td>15.135858</td>\n",
       "      <td>17.059010</td>\n",
       "      <td>9743.787326</td>\n",
       "    </tr>\n",
       "    <tr>\n",
       "      <th>std</th>\n",
       "      <td>1128.695422</td>\n",
       "      <td>NaN</td>\n",
       "      <td>NaN</td>\n",
       "      <td>NaN</td>\n",
       "      <td>NaN</td>\n",
       "      <td>NaN</td>\n",
       "      <td>NaN</td>\n",
       "      <td>303.333234</td>\n",
       "      <td>207.404161</td>\n",
       "      <td>151.502071</td>\n",
       "      <td>11.345764</td>\n",
       "      <td>14624.568218</td>\n",
       "    </tr>\n",
       "    <tr>\n",
       "      <th>min</th>\n",
       "      <td>-1902.966877</td>\n",
       "      <td>0.067181</td>\n",
       "      <td>0.017778</td>\n",
       "      <td>0.017603</td>\n",
       "      <td>0.056077</td>\n",
       "      <td>1.799006e-02</td>\n",
       "      <td>0.015864</td>\n",
       "      <td>0.572562</td>\n",
       "      <td>0.010234</td>\n",
       "      <td>0.016945</td>\n",
       "      <td>1.404815</td>\n",
       "      <td>79.581525</td>\n",
       "    </tr>\n",
       "    <tr>\n",
       "      <th>25%</th>\n",
       "      <td>-45.371905</td>\n",
       "      <td>1.266015</td>\n",
       "      <td>1.075570</td>\n",
       "      <td>1.006811</td>\n",
       "      <td>1.076617</td>\n",
       "      <td>9.631748e+00</td>\n",
       "      <td>10.489781</td>\n",
       "      <td>3.993528</td>\n",
       "      <td>0.326765</td>\n",
       "      <td>0.463594</td>\n",
       "      <td>8.253065</td>\n",
       "      <td>1274.549850</td>\n",
       "    </tr>\n",
       "    <tr>\n",
       "      <th>50%</th>\n",
       "      <td>0.169043</td>\n",
       "      <td>inf</td>\n",
       "      <td>243.934742</td>\n",
       "      <td>216.993059</td>\n",
       "      <td>inf</td>\n",
       "      <td>1.173918e+04</td>\n",
       "      <td>inf</td>\n",
       "      <td>8.003604</td>\n",
       "      <td>1.222281</td>\n",
       "      <td>1.196647</td>\n",
       "      <td>14.432699</td>\n",
       "      <td>2636.391503</td>\n",
       "    </tr>\n",
       "    <tr>\n",
       "      <th>75%</th>\n",
       "      <td>50.926302</td>\n",
       "      <td>inf</td>\n",
       "      <td>inf</td>\n",
       "      <td>inf</td>\n",
       "      <td>inf</td>\n",
       "      <td>inf</td>\n",
       "      <td>inf</td>\n",
       "      <td>15.599019</td>\n",
       "      <td>3.391044</td>\n",
       "      <td>3.376154</td>\n",
       "      <td>22.883621</td>\n",
       "      <td>12971.087947</td>\n",
       "    </tr>\n",
       "    <tr>\n",
       "      <th>max</th>\n",
       "      <td>20920.575703</td>\n",
       "      <td>inf</td>\n",
       "      <td>inf</td>\n",
       "      <td>inf</td>\n",
       "      <td>inf</td>\n",
       "      <td>inf</td>\n",
       "      <td>inf</td>\n",
       "      <td>4534.129284</td>\n",
       "      <td>3217.214426</td>\n",
       "      <td>2939.793736</td>\n",
       "      <td>67.283332</td>\n",
       "      <td>70236.704627</td>\n",
       "    </tr>\n",
       "  </tbody>\n",
       "</table>\n",
       "</div>"
      ],
      "text/plain": [
       "               wmax     rf_t_uf     rf_t_lf     rf_c_uf     rf_c_lf  \\\n",
       "count    408.000000  408.000000  408.000000  408.000000  408.000000   \n",
       "mean      74.265945         inf         inf         inf         inf   \n",
       "std     1128.695422         NaN         NaN         NaN         NaN   \n",
       "min    -1902.966877    0.067181    0.017778    0.017603    0.056077   \n",
       "25%      -45.371905    1.266015    1.075570    1.006811    1.076617   \n",
       "50%        0.169043         inf  243.934742  216.993059         inf   \n",
       "75%       50.926302         inf         inf         inf         inf   \n",
       "max    20920.575703         inf         inf         inf         inf   \n",
       "\n",
       "           rf_lb_uf    rf_lb_lf     rf_s_web        rf_wb       rf_lat  \\\n",
       "count  4.080000e+02  408.000000   408.000000   408.000000   408.000000   \n",
       "mean            inf         inf    49.818235    21.152237    15.135858   \n",
       "std             NaN         NaN   303.333234   207.404161   151.502071   \n",
       "min    1.799006e-02    0.015864     0.572562     0.010234     0.016945   \n",
       "25%    9.631748e+00   10.489781     3.993528     0.326765     0.463594   \n",
       "50%    1.173918e+04         inf     8.003604     1.222281     1.196647   \n",
       "75%             inf         inf    15.599019     3.391044     3.376154   \n",
       "max             inf         inf  4534.129284  3217.214426  2939.793736   \n",
       "\n",
       "             mass          cost  \n",
       "count  408.000000    408.000000  \n",
       "mean    17.059010   9743.787326  \n",
       "std     11.345764  14624.568218  \n",
       "min      1.404815     79.581525  \n",
       "25%      8.253065   1274.549850  \n",
       "50%     14.432699   2636.391503  \n",
       "75%     22.883621  12971.087947  \n",
       "max     67.283332  70236.704627  "
      ]
     },
     "execution_count": 189,
     "metadata": {},
     "output_type": "execute_result"
    }
   ],
   "source": [
    "dfy.describe()"
   ]
  },
  {
   "cell_type": "code",
   "execution_count": 190,
   "metadata": {},
   "outputs": [],
   "source": [
    "#which ones have infinite RF?\n",
    "rffinite = (df.filter(regex=\"^rf_\") < np.inf).astype(int)"
   ]
  },
  {
   "cell_type": "code",
   "execution_count": 191,
   "metadata": {},
   "outputs": [],
   "source": [
    "# train/test split\n",
    "# feature scaling\n",
    "# one-hot encoding of matname\n",
    "from sklearn.pipeline import Pipeline, FeatureUnion\n",
    "from sklearn.compose import TransformedTargetRegressor, ColumnTransformer\n",
    "from sklearn.preprocessing import StandardScaler, OneHotEncoder, MinMaxScaler, PolynomialFeatures, PowerTransformer, FunctionTransformer\n",
    "from sklearn.kernel_ridge import KernelRidge\n",
    "from sklearn.linear_model import Ridge, Lasso\n",
    "from sklearn.svm import SVC, SVR\n",
    "from sklearn.model_selection import train_test_split\n",
    "from sklearn.tree import DecisionTreeClassifier\n",
    "from sklearn.ensemble import RandomForestRegressor\n",
    "from sklearn.gaussian_process import GaussianProcessRegressor"
   ]
  },
  {
   "cell_type": "code",
   "execution_count": 192,
   "metadata": {
    "scrolled": false
   },
   "outputs": [
    {
     "data": {
      "text/html": [
       "<div>\n",
       "<style scoped>\n",
       "    .dataframe tbody tr th:only-of-type {\n",
       "        vertical-align: middle;\n",
       "    }\n",
       "\n",
       "    .dataframe tbody tr th {\n",
       "        vertical-align: top;\n",
       "    }\n",
       "\n",
       "    .dataframe thead th {\n",
       "        text-align: right;\n",
       "    }\n",
       "</style>\n",
       "<table border=\"1\" class=\"dataframe\">\n",
       "  <thead>\n",
       "    <tr style=\"text-align: right;\">\n",
       "      <th></th>\n",
       "      <th>L</th>\n",
       "      <th>h</th>\n",
       "      <th>tw</th>\n",
       "      <th>blf</th>\n",
       "      <th>tlf</th>\n",
       "      <th>buf</th>\n",
       "      <th>tuf</th>\n",
       "      <th>matname</th>\n",
       "      <th>F</th>\n",
       "    </tr>\n",
       "  </thead>\n",
       "  <tbody>\n",
       "    <tr>\n",
       "      <th>150</th>\n",
       "      <td>2775.614846</td>\n",
       "      <td>336.111014</td>\n",
       "      <td>7.995751</td>\n",
       "      <td>63.794468</td>\n",
       "      <td>9.263692</td>\n",
       "      <td>76.319233</td>\n",
       "      <td>5.476635</td>\n",
       "      <td>AL7010</td>\n",
       "      <td>38584.792050</td>\n",
       "    </tr>\n",
       "    <tr>\n",
       "      <th>264</th>\n",
       "      <td>1933.366985</td>\n",
       "      <td>216.578493</td>\n",
       "      <td>7.503601</td>\n",
       "      <td>23.406483</td>\n",
       "      <td>11.682845</td>\n",
       "      <td>64.094030</td>\n",
       "      <td>9.544503</td>\n",
       "      <td>AL2198</td>\n",
       "      <td>-44664.261293</td>\n",
       "    </tr>\n",
       "    <tr>\n",
       "      <th>218</th>\n",
       "      <td>2678.902892</td>\n",
       "      <td>236.326282</td>\n",
       "      <td>9.925558</td>\n",
       "      <td>48.888075</td>\n",
       "      <td>3.476953</td>\n",
       "      <td>16.508950</td>\n",
       "      <td>4.556220</td>\n",
       "      <td>AL2198</td>\n",
       "      <td>-12175.870977</td>\n",
       "    </tr>\n",
       "    <tr>\n",
       "      <th>311</th>\n",
       "      <td>1227.266982</td>\n",
       "      <td>370.493113</td>\n",
       "      <td>9.143747</td>\n",
       "      <td>47.524355</td>\n",
       "      <td>1.138326</td>\n",
       "      <td>37.510926</td>\n",
       "      <td>5.398022</td>\n",
       "      <td>TI64</td>\n",
       "      <td>65535.425068</td>\n",
       "    </tr>\n",
       "    <tr>\n",
       "      <th>235</th>\n",
       "      <td>1234.941295</td>\n",
       "      <td>241.135985</td>\n",
       "      <td>1.935401</td>\n",
       "      <td>63.646668</td>\n",
       "      <td>5.416795</td>\n",
       "      <td>13.108818</td>\n",
       "      <td>11.383266</td>\n",
       "      <td>AL2198</td>\n",
       "      <td>-83115.341320</td>\n",
       "    </tr>\n",
       "    <tr>\n",
       "      <th>...</th>\n",
       "      <td>...</td>\n",
       "      <td>...</td>\n",
       "      <td>...</td>\n",
       "      <td>...</td>\n",
       "      <td>...</td>\n",
       "      <td>...</td>\n",
       "      <td>...</td>\n",
       "      <td>...</td>\n",
       "      <td>...</td>\n",
       "    </tr>\n",
       "    <tr>\n",
       "      <th>323</th>\n",
       "      <td>1760.928610</td>\n",
       "      <td>454.400328</td>\n",
       "      <td>3.477315</td>\n",
       "      <td>78.309432</td>\n",
       "      <td>7.447489</td>\n",
       "      <td>30.137817</td>\n",
       "      <td>8.727186</td>\n",
       "      <td>AL7010</td>\n",
       "      <td>62801.072154</td>\n",
       "    </tr>\n",
       "    <tr>\n",
       "      <th>192</th>\n",
       "      <td>1664.344261</td>\n",
       "      <td>466.173224</td>\n",
       "      <td>8.274102</td>\n",
       "      <td>76.451354</td>\n",
       "      <td>11.405847</td>\n",
       "      <td>18.029109</td>\n",
       "      <td>8.442626</td>\n",
       "      <td>TI64</td>\n",
       "      <td>-16666.179776</td>\n",
       "    </tr>\n",
       "    <tr>\n",
       "      <th>117</th>\n",
       "      <td>1705.418685</td>\n",
       "      <td>374.475602</td>\n",
       "      <td>4.666163</td>\n",
       "      <td>81.324211</td>\n",
       "      <td>5.650076</td>\n",
       "      <td>80.137433</td>\n",
       "      <td>11.482028</td>\n",
       "      <td>AL2198</td>\n",
       "      <td>-9448.000034</td>\n",
       "    </tr>\n",
       "    <tr>\n",
       "      <th>47</th>\n",
       "      <td>1544.622392</td>\n",
       "      <td>293.625468</td>\n",
       "      <td>3.213383</td>\n",
       "      <td>26.497283</td>\n",
       "      <td>1.715219</td>\n",
       "      <td>16.413212</td>\n",
       "      <td>8.074326</td>\n",
       "      <td>AL7010</td>\n",
       "      <td>-10657.782623</td>\n",
       "    </tr>\n",
       "    <tr>\n",
       "      <th>172</th>\n",
       "      <td>1708.523336</td>\n",
       "      <td>266.194339</td>\n",
       "      <td>8.525954</td>\n",
       "      <td>10.459922</td>\n",
       "      <td>4.291726</td>\n",
       "      <td>89.890204</td>\n",
       "      <td>3.598850</td>\n",
       "      <td>AL2198</td>\n",
       "      <td>26267.407555</td>\n",
       "    </tr>\n",
       "  </tbody>\n",
       "</table>\n",
       "<p>306 rows × 9 columns</p>\n",
       "</div>"
      ],
      "text/plain": [
       "               L           h        tw        blf        tlf        buf  \\\n",
       "150  2775.614846  336.111014  7.995751  63.794468   9.263692  76.319233   \n",
       "264  1933.366985  216.578493  7.503601  23.406483  11.682845  64.094030   \n",
       "218  2678.902892  236.326282  9.925558  48.888075   3.476953  16.508950   \n",
       "311  1227.266982  370.493113  9.143747  47.524355   1.138326  37.510926   \n",
       "235  1234.941295  241.135985  1.935401  63.646668   5.416795  13.108818   \n",
       "..           ...         ...       ...        ...        ...        ...   \n",
       "323  1760.928610  454.400328  3.477315  78.309432   7.447489  30.137817   \n",
       "192  1664.344261  466.173224  8.274102  76.451354  11.405847  18.029109   \n",
       "117  1705.418685  374.475602  4.666163  81.324211   5.650076  80.137433   \n",
       "47   1544.622392  293.625468  3.213383  26.497283   1.715219  16.413212   \n",
       "172  1708.523336  266.194339  8.525954  10.459922   4.291726  89.890204   \n",
       "\n",
       "           tuf matname             F  \n",
       "150   5.476635  AL7010  38584.792050  \n",
       "264   9.544503  AL2198 -44664.261293  \n",
       "218   4.556220  AL2198 -12175.870977  \n",
       "311   5.398022    TI64  65535.425068  \n",
       "235  11.383266  AL2198 -83115.341320  \n",
       "..         ...     ...           ...  \n",
       "323   8.727186  AL7010  62801.072154  \n",
       "192   8.442626    TI64 -16666.179776  \n",
       "117  11.482028  AL2198  -9448.000034  \n",
       "47    8.074326  AL7010 -10657.782623  \n",
       "172   3.598850  AL2198  26267.407555  \n",
       "\n",
       "[306 rows x 9 columns]"
      ]
     },
     "execution_count": 192,
     "metadata": {},
     "output_type": "execute_result"
    }
   ],
   "source": [
    "X_train, X_test, y_train, y_test, yc_train, yc_test = train_test_split(dfx, dfy, rffinite, random_state=0)\n",
    "X_train"
   ]
  },
  {
   "cell_type": "markdown",
   "metadata": {},
   "source": [
    "## Plan\n",
    "\n",
    "- feature tranformer bauen\n",
    "  - one hot für material\n",
    "  - F: abs, +/-\n",
    "- targets: diese können inf werden (menge A)\n",
    "  - rf_t_uf\n",
    "  - rf_t_lf\n",
    "  - rf_c_uf\n",
    "  - rf_c_lf\n",
    "  - rf_lb_uf\n",
    "  - rf_lb_lf \t\n",
    "- targets: werden nicht inf (menge B)?\n",
    "  - rf_s_web\n",
    "  - rf_wb\n",
    "  - rf_lat\n",
    "- neue targets bauen: inf ja/nein\n",
    "- klassifizierer für menge A bauen\n",
    "- target transformieren\n",
    "  - w: abs, +/-\n",
    "\n",
    "\n",
    "### Classification if RF is infinite\n",
    "\n",
    "- a simple decision tree classifier works; it finds that F is the only relevant feature.\n",
    "- I love it."
   ]
  },
  {
   "cell_type": "code",
   "execution_count": 193,
   "metadata": {},
   "outputs": [],
   "source": [
    "from sklearn.pipeline import make_pipeline\n",
    "from sklearn.preprocessing import FunctionTransformer, OneHotEncoder\n",
    "from sklearn.preprocessing import StandardScaler, KBinsDiscretizer\n",
    "from sklearn.compose import ColumnTransformer\n",
    "\n",
    "# preprocessing mit sklearn: Mist, because I don't know which material was used\n",
    "# L, h, tw, blf, tlf, buf, tuf, mat_1, mat_2, F, F_sign\n",
    "\n",
    "linear_model_preprocessor = ColumnTransformer(\n",
    "    [\n",
    "        (\"log_geom\", Pipeline([('log', FunctionTransformer(np.log, check_inverse=False)),\n",
    "                               ('scal', MinMaxScaler())\n",
    "                              ]), [\"L\", \"h\", \"tw\", \"blf\", \"tlf\", \"buf\", \"tuf\"]),\n",
    "        (\"onehot_matname\", OneHotEncoder(drop=\"first\"), [\"matname\"]),\n",
    "        (\"log_f\", Pipeline([('log', FunctionTransformer(lambda x: np.log(np.abs(x)), check_inverse=False)),\n",
    "                           ('scal', MinMaxScaler())\n",
    "                           ]), [\"F\"]),\n",
    "        (\"sign_f\", FunctionTransformer(lambda x: x >= 0), [\"F\"]),\n",
    "    ], \n",
    "    remainder=\"drop\",\n",
    ")\n"
   ]
  },
  {
   "cell_type": "code",
   "execution_count": 194,
   "metadata": {},
   "outputs": [],
   "source": [
    "clf = Pipeline([\n",
    "    ('prep', linear_model_preprocessor),\n",
    "    ('dt', DecisionTreeClassifier(max_depth=1)),\n",
    "])"
   ]
  },
  {
   "cell_type": "code",
   "execution_count": 195,
   "metadata": {},
   "outputs": [],
   "source": [
    "clf = clf.fit(X_train, yc_train)\n",
    "#for feature_name, val in zip(X_train.columns, clf.feature_importances_):\n",
    "#    print(feature_name, val)"
   ]
  },
  {
   "cell_type": "code",
   "execution_count": 196,
   "metadata": {},
   "outputs": [
    {
     "data": {
      "text/plain": [
       "1.0"
      ]
     },
     "execution_count": 196,
     "metadata": {},
     "output_type": "execute_result"
    }
   ],
   "source": [
    "clf.score(X_test, yc_test)"
   ]
  },
  {
   "cell_type": "code",
   "execution_count": 197,
   "metadata": {
    "scrolled": true
   },
   "outputs": [
    {
     "data": {
      "text/plain": [
       "array([[0, 1, 1, 0, 1, 0, 1, 1, 1],\n",
       "       [1, 0, 0, 1, 0, 1, 1, 1, 1],\n",
       "       [1, 0, 0, 1, 0, 1, 1, 1, 1],\n",
       "       [0, 1, 1, 0, 1, 0, 1, 1, 1],\n",
       "       [1, 0, 0, 1, 0, 1, 1, 1, 1],\n",
       "       [0, 1, 1, 0, 1, 0, 1, 1, 1],\n",
       "       [0, 1, 1, 0, 1, 0, 1, 1, 1],\n",
       "       [0, 1, 1, 0, 1, 0, 1, 1, 1],\n",
       "       [0, 1, 1, 0, 1, 0, 1, 1, 1],\n",
       "       [1, 0, 0, 1, 0, 1, 1, 1, 1]])"
      ]
     },
     "execution_count": 197,
     "metadata": {},
     "output_type": "execute_result"
    }
   ],
   "source": [
    "clf.predict(X_train[:10])"
   ]
  },
  {
   "cell_type": "code",
   "execution_count": 198,
   "metadata": {
    "scrolled": true
   },
   "outputs": [
    {
     "data": {
      "text/html": [
       "<div>\n",
       "<style scoped>\n",
       "    .dataframe tbody tr th:only-of-type {\n",
       "        vertical-align: middle;\n",
       "    }\n",
       "\n",
       "    .dataframe tbody tr th {\n",
       "        vertical-align: top;\n",
       "    }\n",
       "\n",
       "    .dataframe thead th {\n",
       "        text-align: right;\n",
       "    }\n",
       "</style>\n",
       "<table border=\"1\" class=\"dataframe\">\n",
       "  <thead>\n",
       "    <tr style=\"text-align: right;\">\n",
       "      <th></th>\n",
       "      <th>rf_t_uf</th>\n",
       "      <th>rf_t_lf</th>\n",
       "      <th>rf_c_uf</th>\n",
       "      <th>rf_c_lf</th>\n",
       "      <th>rf_lb_uf</th>\n",
       "      <th>rf_lb_lf</th>\n",
       "      <th>rf_s_web</th>\n",
       "      <th>rf_wb</th>\n",
       "      <th>rf_lat</th>\n",
       "    </tr>\n",
       "  </thead>\n",
       "  <tbody>\n",
       "    <tr>\n",
       "      <th>count</th>\n",
       "      <td>306.000000</td>\n",
       "      <td>306.000000</td>\n",
       "      <td>306.000000</td>\n",
       "      <td>306.000000</td>\n",
       "      <td>306.000000</td>\n",
       "      <td>306.000000</td>\n",
       "      <td>306.0</td>\n",
       "      <td>306.0</td>\n",
       "      <td>306.0</td>\n",
       "    </tr>\n",
       "    <tr>\n",
       "      <th>mean</th>\n",
       "      <td>0.506536</td>\n",
       "      <td>0.493464</td>\n",
       "      <td>0.493464</td>\n",
       "      <td>0.506536</td>\n",
       "      <td>0.493464</td>\n",
       "      <td>0.506536</td>\n",
       "      <td>1.0</td>\n",
       "      <td>1.0</td>\n",
       "      <td>1.0</td>\n",
       "    </tr>\n",
       "    <tr>\n",
       "      <th>std</th>\n",
       "      <td>0.500776</td>\n",
       "      <td>0.500776</td>\n",
       "      <td>0.500776</td>\n",
       "      <td>0.500776</td>\n",
       "      <td>0.500776</td>\n",
       "      <td>0.500776</td>\n",
       "      <td>0.0</td>\n",
       "      <td>0.0</td>\n",
       "      <td>0.0</td>\n",
       "    </tr>\n",
       "    <tr>\n",
       "      <th>min</th>\n",
       "      <td>0.000000</td>\n",
       "      <td>0.000000</td>\n",
       "      <td>0.000000</td>\n",
       "      <td>0.000000</td>\n",
       "      <td>0.000000</td>\n",
       "      <td>0.000000</td>\n",
       "      <td>1.0</td>\n",
       "      <td>1.0</td>\n",
       "      <td>1.0</td>\n",
       "    </tr>\n",
       "    <tr>\n",
       "      <th>25%</th>\n",
       "      <td>0.000000</td>\n",
       "      <td>0.000000</td>\n",
       "      <td>0.000000</td>\n",
       "      <td>0.000000</td>\n",
       "      <td>0.000000</td>\n",
       "      <td>0.000000</td>\n",
       "      <td>1.0</td>\n",
       "      <td>1.0</td>\n",
       "      <td>1.0</td>\n",
       "    </tr>\n",
       "    <tr>\n",
       "      <th>50%</th>\n",
       "      <td>1.000000</td>\n",
       "      <td>0.000000</td>\n",
       "      <td>0.000000</td>\n",
       "      <td>1.000000</td>\n",
       "      <td>0.000000</td>\n",
       "      <td>1.000000</td>\n",
       "      <td>1.0</td>\n",
       "      <td>1.0</td>\n",
       "      <td>1.0</td>\n",
       "    </tr>\n",
       "    <tr>\n",
       "      <th>75%</th>\n",
       "      <td>1.000000</td>\n",
       "      <td>1.000000</td>\n",
       "      <td>1.000000</td>\n",
       "      <td>1.000000</td>\n",
       "      <td>1.000000</td>\n",
       "      <td>1.000000</td>\n",
       "      <td>1.0</td>\n",
       "      <td>1.0</td>\n",
       "      <td>1.0</td>\n",
       "    </tr>\n",
       "    <tr>\n",
       "      <th>max</th>\n",
       "      <td>1.000000</td>\n",
       "      <td>1.000000</td>\n",
       "      <td>1.000000</td>\n",
       "      <td>1.000000</td>\n",
       "      <td>1.000000</td>\n",
       "      <td>1.000000</td>\n",
       "      <td>1.0</td>\n",
       "      <td>1.0</td>\n",
       "      <td>1.0</td>\n",
       "    </tr>\n",
       "  </tbody>\n",
       "</table>\n",
       "</div>"
      ],
      "text/plain": [
       "          rf_t_uf     rf_t_lf     rf_c_uf     rf_c_lf    rf_lb_uf    rf_lb_lf  \\\n",
       "count  306.000000  306.000000  306.000000  306.000000  306.000000  306.000000   \n",
       "mean     0.506536    0.493464    0.493464    0.506536    0.493464    0.506536   \n",
       "std      0.500776    0.500776    0.500776    0.500776    0.500776    0.500776   \n",
       "min      0.000000    0.000000    0.000000    0.000000    0.000000    0.000000   \n",
       "25%      0.000000    0.000000    0.000000    0.000000    0.000000    0.000000   \n",
       "50%      1.000000    0.000000    0.000000    1.000000    0.000000    1.000000   \n",
       "75%      1.000000    1.000000    1.000000    1.000000    1.000000    1.000000   \n",
       "max      1.000000    1.000000    1.000000    1.000000    1.000000    1.000000   \n",
       "\n",
       "       rf_s_web  rf_wb  rf_lat  \n",
       "count     306.0  306.0   306.0  \n",
       "mean        1.0    1.0     1.0  \n",
       "std         0.0    0.0     0.0  \n",
       "min         1.0    1.0     1.0  \n",
       "25%         1.0    1.0     1.0  \n",
       "50%         1.0    1.0     1.0  \n",
       "75%         1.0    1.0     1.0  \n",
       "max         1.0    1.0     1.0  "
      ]
     },
     "execution_count": 198,
     "metadata": {},
     "output_type": "execute_result"
    }
   ],
   "source": [
    "yc_train.describe()"
   ]
  },
  {
   "cell_type": "markdown",
   "metadata": {},
   "source": [
    "## Regression\n",
    "\n",
    "- log transform of features and targets makes sense because the targets are mostly \n",
    "  a product of the features. \n",
    "- we do not need much regulatisation, because the data are from a deterministic model."
   ]
  },
  {
   "cell_type": "code",
   "execution_count": 199,
   "metadata": {},
   "outputs": [],
   "source": [
    "# Group A: will not be inf\n",
    "targets_a = ['mass', 'cost']\n",
    "# Group B: will not be inf, but needs to be multiplied by sign\n",
    "targets_b = ['wmax']\n",
    "# Group C: may be inf\n",
    "targets_c = ['rf_t_uf', 'rf_t_lf', 'rf_c_uf', 'rf_c_lf', 'rf_lb_uf',\n",
    "             'rf_lb_lf', 'rf_s_web', 'rf_wb', 'rf_lat']"
   ]
  },
  {
   "cell_type": "code",
   "execution_count": 200,
   "metadata": {},
   "outputs": [],
   "source": [
    "from sklearn.metrics import r2_score\n",
    "from sklearn.linear_model import LinearRegression\n",
    "from sklearn.ensemble import RandomForestRegressor\n",
    "from sklearn.gaussian_process.kernels import Matern"
   ]
  },
  {
   "cell_type": "markdown",
   "metadata": {},
   "source": [
    "### Mass"
   ]
  },
  {
   "cell_type": "code",
   "execution_count": 201,
   "metadata": {},
   "outputs": [
    {
     "name": "stdout",
     "output_type": "stream",
     "text": [
      "0.9915199943039715\n"
     ]
    },
    {
     "data": {
      "image/png": "[encoded data removed]",
      "text/plain": [
       "<Figure size 432x288 with 1 Axes>"
      ]
     },
     "metadata": {
      "needs_background": "light"
     },
     "output_type": "display_data"
    }
   ],
   "source": [
    "# Mass\n",
    "features_m = ['L', 'h', 'tw', 'blf', 'tlf', 'buf', 'tuf', 'matname']\n",
    "target_m = 'mass'\n",
    "\n",
    "prep_geo = ColumnTransformer(\n",
    "    [\n",
    "        (\"scal\", MinMaxScaler(), [\"L\", \"h\", \"tw\", \"blf\", \"tlf\", \"buf\", \"tuf\"]),\n",
    "        (\"onehot_matname\", OneHotEncoder(drop=\"first\"), [\"matname\"]),\n",
    "    ], \n",
    "    remainder=\"drop\",\n",
    ")\n",
    "\n",
    "# few examples: Lasso + PolynomialFeatures\n",
    "# more examples: SVR\n",
    "rmass = Pipeline([\n",
    "    ('prep', prep_geo),\n",
    "    (\"poly\", PolynomialFeatures(interaction_only=True)),\n",
    "    #('regr', Lasso(alpha=0.01))\n",
    "    ('regr', SVR(C=100))\n",
    "    #('regr', GaussianProcessRegressor())\n",
    "])\n",
    "\n",
    "rmass = rmass.fit(X_train, y_train[target_m]) #.values.ravel())\n",
    "ypred = rmass.predict(X_test)\n",
    "\n",
    "print(r2_score(ypred, y_test[target_m]))\n",
    "\n",
    "fig, ax = plt.subplots()\n",
    "ax.scatter(y_test[target_m], ypred);\n",
    "\n",
    "ax.grid();\n",
    "ax.set_aspect('equal')\n",
    "ax.set_xlabel(\"true mass\")\n",
    "ax.set_ylabel(\"predicted mass\");"
   ]
  },
  {
   "cell_type": "markdown",
   "metadata": {},
   "source": [
    "### Cost"
   ]
  },
  {
   "cell_type": "code",
   "execution_count": 202,
   "metadata": {},
   "outputs": [
    {
     "name": "stdout",
     "output_type": "stream",
     "text": [
      "0.9179433342698111\n"
     ]
    },
    {
     "data": {
      "image/png": "[encoded data removed]",
      "text/plain": [
       "<Figure size 432x288 with 1 Axes>"
      ]
     },
     "metadata": {
      "needs_background": "light"
     },
     "output_type": "display_data"
    }
   ],
   "source": [
    "features_c = ['L', 'h', 'tw', 'blf', 'tlf', 'buf', 'tuf', 'matname']\n",
    "target_c = 'cost'\n",
    "\n",
    "prep_cost = ColumnTransformer(\n",
    "    [\n",
    "        #(\"scal\", MinMaxScaler(), [\"L\", \"h\", \"tw\", \"blf\", \"tlf\", \"buf\", \"tuf\"]),\n",
    "        (\"onehot_matname\", OneHotEncoder(drop=\"first\"), [\"matname\"]),\n",
    "    ], \n",
    "    remainder=\"passthrough\",\n",
    ")\n",
    "# few examples: Lasso + PolynomialFeatures\n",
    "# more examples: SVR\n",
    "rcost = Pipeline([\n",
    "    ('prep', prep_cost),\n",
    "    #('poly', PolynomialFeatures(interaction_only=True, include_bias=False)),\n",
    "    ('scal', MinMaxScaler()),\n",
    "    #('regr', TransformedTargetRegressor(Lasso(alpha=0.01), func=np.log, inverse_func=np.exp)),\n",
    "    ('regr', TransformedTargetRegressor(SVR(C=100, epsilon=.1), func=np.log, inverse_func=np.exp)),\n",
    "    #('regr', GaussianProcessRegressor())\n",
    "])\n",
    "\n",
    "rcost = rcost.fit(X_train, y_train[target_c]) #.values.ravel())\n",
    "ypred = rcost.predict(X_test)\n",
    "\n",
    "print(r2_score(ypred, y_test[target_c]))\n",
    "\n",
    "fig, ax = plt.subplots()\n",
    "ax.scatter(y_test[target_c], ypred);\n",
    "\n",
    "ax.grid();\n",
    "ax.set_aspect('equal')\n",
    "ax.set_xlabel(\"true cost\")\n",
    "ax.set_ylabel(\"predicted cost\");\n",
    "ax.semilogx()\n",
    "ax.semilogy();"
   ]
  },
  {
   "cell_type": "markdown",
   "metadata": {},
   "source": [
    "### rf_lb_lf"
   ]
  },
  {
   "cell_type": "code",
   "execution_count": 246,
   "metadata": {},
   "outputs": [],
   "source": [
    "def train_rf(X, y, finite_threshold=1e4):\n",
    "    finite = y < finite_threshold \n",
    "\n",
    "    #base = GaussianProcessRegressor(kernel=Matern())\n",
    "    base = SVR(C=10, epsilon=0.1, kernel='rbf')\n",
    "    #base = regressor=Ridge()\n",
    "\n",
    "    regr = Pipeline([\n",
    "        ('pre', linear_model_preprocessor),\n",
    "        ('reg', TransformedTargetRegressor(regressor=base, \n",
    "                                           func=np.log, \n",
    "                                           inverse_func=np.exp, \n",
    "                                           check_inverse=False))\n",
    "        #('reg', base)\n",
    "    ])\n",
    "    return regr.fit(X[finite], y[finite])\n",
    "    "
   ]
  },
  {
   "cell_type": "code",
   "execution_count": 259,
   "metadata": {},
   "outputs": [],
   "source": [
    "def plot_rf(reg, X, y, finite_threshold=1e4):\n",
    "\n",
    "    finite = y < finite_threshold \n",
    "    # we should do scoring based on log values...\n",
    "    ypred = reg.predict(X[finite])\n",
    "    print(reg.score(X[finite], y[finite]))\n",
    "    fig, ax = plt.subplots()\n",
    "    ax.scatter(y[finite], ypred);\n",
    "    ax.semilogx()\n",
    "    ax.semilogy();\n",
    "    ax.grid();\n",
    "    ax.set_aspect('equal')"
   ]
  },
  {
   "cell_type": "code",
   "execution_count": 260,
   "metadata": {},
   "outputs": [
    {
     "name": "stdout",
     "output_type": "stream",
     "text": [
      "0.3645108929373939\n"
     ]
    },
    {
     "data": {
      "image/png": "[encoded data removed]",
      "text/plain": [
       "<Figure size 432x288 with 1 Axes>"
      ]
     },
     "metadata": {
      "needs_background": "light"
     },
     "output_type": "display_data"
    }
   ],
   "source": [
    "reg_lb_lf = train_rf(X_train, y_train['rf_lb_lf'])\n",
    "plot_rf(reg_lb_lf, X_test, y_test['rf_lb_lf'])"
   ]
  },
  {
   "cell_type": "code",
   "execution_count": 261,
   "metadata": {},
   "outputs": [
    {
     "name": "stdout",
     "output_type": "stream",
     "text": [
      "0.6368696143093502\n"
     ]
    },
    {
     "data": {
      "image/png": "[encoded data removed]",
      "text/plain": [
       "<Figure size 432x288 with 1 Axes>"
      ]
     },
     "metadata": {
      "needs_background": "light"
     },
     "output_type": "display_data"
    }
   ],
   "source": [
    "### lb_uf\n",
    "reg_lb_uf = train_rf(X_train, y_train['rf_lb_uf'])\n",
    "plot_rf(reg_lb_uf, X_test, y_test['rf_lb_uf'])"
   ]
  },
  {
   "cell_type": "code",
   "execution_count": 266,
   "metadata": {},
   "outputs": [
    {
     "name": "stdout",
     "output_type": "stream",
     "text": [
      "0.15808576295270937\n"
     ]
    },
    {
     "data": {
      "image/png": "[encoded data removed]",
      "text/plain": [
       "<Figure size 432x288 with 1 Axes>"
      ]
     },
     "metadata": {
      "needs_background": "light"
     },
     "output_type": "display_data"
    }
   ],
   "source": [
    "### t_uf\n",
    "reg_t_uf = train_rf(X_train, y_train['rf_t_uf'])\n",
    "plot_rf(reg_t_uf, X_test, y_test['rf_t_uf'])"
   ]
  },
  {
   "cell_type": "code",
   "execution_count": 265,
   "metadata": {},
   "outputs": [
    {
     "name": "stdout",
     "output_type": "stream",
     "text": [
      "0.9566266107528478\n"
     ]
    },
    {
     "data": {
      "image/png": "[encoded data removed]",
      "text/plain": [
       "<Figure size 432x288 with 1 Axes>"
      ]
     },
     "metadata": {
      "needs_background": "light"
     },
     "output_type": "display_data"
    }
   ],
   "source": [
    "### c_uf\n",
    "reg_c_uf = train_rf(X_train, y_train['rf_c_uf'])\n",
    "plot_rf(reg_c_uf, X_test, y_test['rf_c_uf'])"
   ]
  },
  {
   "cell_type": "code",
   "execution_count": 267,
   "metadata": {},
   "outputs": [
    {
     "name": "stdout",
     "output_type": "stream",
     "text": [
      "0.1339022843942529\n"
     ]
    },
    {
     "data": {
      "image/png": "[encoded data removed]",
      "text/plain": [
       "<Figure size 432x288 with 1 Axes>"
      ]
     },
     "metadata": {
      "needs_background": "light"
     },
     "output_type": "display_data"
    }
   ],
   "source": [
    "### lb_web\n",
    "reg_wb = train_rf(X_train, y_train['rf_wb'])\n",
    "plot_rf(reg_wb, X_test, y_test['rf_wb'])"
   ]
  },
  {
   "cell_type": "code",
   "execution_count": null,
   "metadata": {},
   "outputs": [],
   "source": []
  }
 ],
 "metadata": {
  "kernelspec": {
   "display_name": "Python 3",
   "language": "python",
   "name": "python3"
  },
  "language_info": {
   "codemirror_mode": {
    "name": "ipython",
    "version": 3
   },
   "file_extension": ".py",
   "mimetype": "text/x-python",
   "name": "python",
   "nbconvert_exporter": "python",
   "pygments_lexer": "ipython3",
   "version": "3.8.4"
  }
 },
 "nbformat": 4,
 "nbformat_minor": 4
}
